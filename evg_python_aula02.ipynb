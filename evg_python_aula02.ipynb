{
  "nbformat": 4,
  "nbformat_minor": 0,
  "metadata": {
    "colab": {
      "provenance": [],
      "include_colab_link": true
    },
    "kernelspec": {
      "name": "python3",
      "display_name": "Python 3"
    },
    "language_info": {
      "name": "python"
    }
  },
  "cells": [
    {
      "cell_type": "markdown",
      "metadata": {
        "id": "view-in-github",
        "colab_type": "text"
      },
      "source": [
        "<a href=\"https://colab.research.google.com/github/soaressc/evg_python/blob/main/evg_python_aula02.ipynb\" target=\"_parent\"><img src=\"https://colab.research.google.com/assets/colab-badge.svg\" alt=\"Open In Colab\"/></a>"
      ]
    },
    {
      "cell_type": "markdown",
      "source": [
        "Module 2: Loops, Functions"
      ],
      "metadata": {
        "id": "pP_2SFfX_LSr"
      }
    },
    {
      "cell_type": "markdown",
      "source": [
        "1.   Understand the structure of the for and while loops and the difference between iterate over index vs. element. Recognize the effects of break and continue keywords.\n",
        "2.   Construct new functions and make function calls. Understanding the role of parameter.\n",
        "\n",
        "Possui for e forEach\n",
        "\n",
        "The variable i serves as the counter over the RANGE of [0,10), inclusive of lower but **exclusive of upper bound**.\n",
        "\n",
        "The lower bound of 0 does **NOT** need to be specify; it is implemented by default unless another lower bound is specified.\n",
        "\n",
        "Also by default, if there does NOT exists a third parameter for range(), then i increments by 1."
      ],
      "metadata": {
        "id": "Lv1SDrnt_M9r"
      }
    },
    {
      "cell_type": "code",
      "source": [
        "for i in range(10):\n",
        "  print(i)"
      ],
      "metadata": {
        "colab": {
          "base_uri": "https://localhost:8080/"
        },
        "id": "yfsnvPNQ_b9a",
        "outputId": "3181d603-e870-435a-eb47-53403f150e80"
      },
      "execution_count": null,
      "outputs": [
        {
          "output_type": "stream",
          "name": "stdout",
          "text": [
            "0\n",
            "1\n",
            "2\n",
            "3\n",
            "4\n",
            "5\n",
            "6\n",
            "7\n",
            "8\n",
            "9\n"
          ]
        }
      ]
    },
    {
      "cell_type": "code",
      "source": [
        "\"\"\"\n",
        "In this example, x starts at the value of 2 and stops at 9 inclusively, or 10 exclusive,\n",
        "with x increments by 1 with each iteration.\n",
        "\"\"\"\n",
        "\n",
        "for x in range(2, 10):\n",
        "  print(x)"
      ],
      "metadata": {
        "colab": {
          "base_uri": "https://localhost:8080/"
        },
        "id": "3Ay5GipUAHJD",
        "outputId": "0565efa8-adbb-4664-a908-9e634de828a7"
      },
      "execution_count": null,
      "outputs": [
        {
          "output_type": "stream",
          "name": "stdout",
          "text": [
            "2\n",
            "3\n",
            "4\n",
            "5\n",
            "6\n",
            "7\n",
            "8\n",
            "9\n"
          ]
        }
      ]
    },
    {
      "cell_type": "code",
      "source": [
        "for i in range(0, 10, 3):\n",
        "  print(i)"
      ],
      "metadata": {
        "colab": {
          "base_uri": "https://localhost:8080/"
        },
        "id": "kxgHvmPWAoHC",
        "outputId": "4ff68dd4-21ad-4d45-eb02-a558f01b854f"
      },
      "execution_count": null,
      "outputs": [
        {
          "output_type": "stream",
          "name": "stdout",
          "text": [
            "0\n",
            "3\n",
            "6\n",
            "9\n"
          ]
        }
      ]
    },
    {
      "cell_type": "code",
      "source": [
        "\"\"\"\n",
        "loop na string\n",
        "\"\"\"\n",
        "\n",
        "for i in \"hello!\":\n",
        "  print(i)"
      ],
      "metadata": {
        "colab": {
          "base_uri": "https://localhost:8080/"
        },
        "id": "UBRcl-JqBW3H",
        "outputId": "bb17efdd-5eb8-4ae2-d5a8-34c27d16d1c2"
      },
      "execution_count": null,
      "outputs": [
        {
          "output_type": "stream",
          "name": "stdout",
          "text": [
            "h\n",
            "e\n",
            "l\n",
            "l\n",
            "o\n",
            "!\n"
          ]
        }
      ]
    },
    {
      "cell_type": "code",
      "source": [
        "string = \"hello world!\"\n",
        "for i in range(0, len(string), 2):\n",
        "  print(str(i) + \"th letter is \" + string[i])"
      ],
      "metadata": {
        "colab": {
          "base_uri": "https://localhost:8080/"
        },
        "id": "I8jJljMRBqaY",
        "outputId": "99e23457-d9f5-4ea3-c8fe-fce4fb196752"
      },
      "execution_count": null,
      "outputs": [
        {
          "output_type": "stream",
          "name": "stdout",
          "text": [
            "0th letter is h\n",
            "2th letter is l\n",
            "4th letter is o\n",
            "6th letter is w\n",
            "8th letter is r\n",
            "10th letter is d\n"
          ]
        }
      ]
    },
    {
      "cell_type": "code",
      "source": [
        "count = 0\n",
        "while (count < 10):\n",
        "  print(count)\n",
        "  count += 1"
      ],
      "metadata": {
        "colab": {
          "base_uri": "https://localhost:8080/"
        },
        "id": "0SeV7YZ3CK6G",
        "outputId": "f166db9b-d033-4eed-8e30-1b9f4826e777"
      },
      "execution_count": null,
      "outputs": [
        {
          "output_type": "stream",
          "name": "stdout",
          "text": [
            "0\n",
            "1\n",
            "2\n",
            "3\n",
            "4\n",
            "5\n",
            "6\n",
            "7\n",
            "8\n",
            "9\n"
          ]
        }
      ]
    },
    {
      "cell_type": "code",
      "source": [
        "while True:\n",
        "  user = input(\"Entre com algo a ser repetido: \")\n",
        "  if user == \"fim\":\n",
        "    print(\"Encerrando\")\n",
        "    break\n",
        "  print(user)"
      ],
      "metadata": {
        "colab": {
          "base_uri": "https://localhost:8080/"
        },
        "id": "yjFbFTDjCfDs",
        "outputId": "f9393846-11cf-4a8e-c480-b7fb9cfb1b8f"
      },
      "execution_count": null,
      "outputs": [
        {
          "output_type": "stream",
          "name": "stdout",
          "text": [
            "Entre com algo a ser repetido: oi\n",
            "oi\n",
            "Entre com algo a ser repetido: tudo bem?\n",
            "tudo bem?\n",
            "Entre com algo a ser repetido: fim\n",
            "Encerrando\n"
          ]
        }
      ]
    },
    {
      "cell_type": "code",
      "source": [
        "end = False\n",
        "while end == False:\n",
        "  user = input(\"Entre com algo a ser repetido: \")\n",
        "  if user==\"fim\":\n",
        "    print(\"Encerrando\")\n",
        "    end = True\n",
        "  else: print(user)"
      ],
      "metadata": {
        "colab": {
          "base_uri": "https://localhost:8080/"
        },
        "id": "-xUnBiQaDBit",
        "outputId": "97e8a359-f4c4-4c8a-e494-93719e29dbcd"
      },
      "execution_count": null,
      "outputs": [
        {
          "output_type": "stream",
          "name": "stdout",
          "text": [
            "Entre com algo a ser repetido: a\n",
            "a\n",
            "Entre com algo a ser repetido: a\n",
            "a\n",
            "Entre com algo a ser repetido: fim\n",
            "Encerrando\n"
          ]
        }
      ]
    },
    {
      "cell_type": "code",
      "source": [
        "count = 1\n",
        "while count + 1 <= 20:\n",
        "  if count % 5 == 0:\n",
        "    print(\"SKIP\")\n",
        "    count += 1\n",
        "    continue\n",
        "  print(count)\n",
        "  count += 1"
      ],
      "metadata": {
        "colab": {
          "base_uri": "https://localhost:8080/"
        },
        "id": "Z57Lr8bnuZS5",
        "outputId": "67c31142-f809-4114-c72b-9e753b24c22d"
      },
      "execution_count": null,
      "outputs": [
        {
          "output_type": "stream",
          "name": "stdout",
          "text": [
            "1\n",
            "2\n",
            "3\n",
            "4\n",
            "SKIP\n",
            "6\n",
            "7\n",
            "8\n",
            "9\n",
            "SKIP\n",
            "11\n",
            "12\n",
            "13\n",
            "14\n",
            "SKIP\n",
            "16\n",
            "17\n",
            "18\n",
            "19\n"
          ]
        }
      ]
    },
    {
      "cell_type": "markdown",
      "source": [
        "Functions\n",
        "\n",
        "\n",
        "\n",
        "1.   Define/initialize a new function with the def keyword before the function name.\n",
        "2.   Do NOT define the return type in the function declaration.\n",
        "3.   Do NOT forget about the function parameter if your function needs information from the main() or other functions.\n",
        "4.   RETURN statement is NOT required, depending on the functions.\n",
        "\n",
        "\n",
        "\n"
      ],
      "metadata": {
        "id": "PtSnEEZSwNVi"
      }
    },
    {
      "cell_type": "code",
      "source": [
        "def trianguloRetangulo(a, b, c):\n",
        "\n",
        "#c é hipotenusa?\n",
        "  if(max(a,b,c) != c):\n",
        "\n",
        "#reorganiza de modo que c é maior comprimento\n",
        "    tmp = c\n",
        "    c = max(a,b,c)\n",
        "\n",
        "  if a == c:\n",
        "    a = tmp\n",
        "  elif b == c:\n",
        "    b = tmp\n",
        "\n",
        "  if a**2 + b**2 == c**2:\n",
        "    print(\"É triângulo retângulo\")\n",
        "    return True\n",
        "\n",
        "  print(\"Não é triângulo retângulo\")\n",
        "  return False\n",
        "\n",
        "def main():\n",
        "  a = int(input(\"Entre com o comprimento da primeira aresta do triângulo: \"))\n",
        "  b = int(input(\"Entre com o comprimento da segunda aresta do triângulo: \"))\n",
        "  c = int(input(\"Entre com o comprimento da terceira aresta do triângulo: \"))\n",
        "\n",
        "  return trianguloRetangulo(a, b, c)\n",
        "\n",
        "if __name__ == \"__main__\":\n",
        "  main()\n"
      ],
      "metadata": {
        "colab": {
          "base_uri": "https://localhost:8080/"
        },
        "id": "2EI8JtMhwqyz",
        "outputId": "63e05a8d-b775-4732-b577-53da47675207"
      },
      "execution_count": null,
      "outputs": [
        {
          "output_type": "stream",
          "name": "stdout",
          "text": [
            "Entre com o comprimento da primeira aresta do triângulo: 5\n",
            "Entre com o comprimento da segunda aresta do triângulo: 3\n",
            "Entre com o comprimento da terceira aresta do triângulo: 4\n",
            "É triângulo retângulo\n"
          ]
        }
      ]
    },
    {
      "cell_type": "code",
      "source": [
        "\"\"\"\n",
        "Another example: determine if the user input is a palindrome.\n",
        "\n",
        "Palindrome: If a word/sentence is spelled the same way when it is reversed.\n",
        "  EX: racecar\n",
        "\n",
        "For this example, let's make this more involved.\n",
        "In stead checking if a word is a palindrome, we will test if a sentence is a palindrome.\n",
        "\n",
        "In order to write this program, we will set a few specifications:\n",
        "  - Treat capitalized letters as lowercase\n",
        "  - Ignore all white spaces and punctuations\n",
        "  - An empty sentence/string IS consider to be a palindrome.\n",
        "\"\"\"\n",
        "\n",
        "import string\n",
        "\n",
        "def ePalindromo(str):\n",
        "  #retirar pontuacao, espaços e colocar tudo em minúsculo\n",
        "  tratar = set(string.punctuation)\n",
        "  #junta strings separadas por ' ', verifica caracter por caracter\n",
        "  str = ' '.join(ch for ch in str if ch not in tratar)\n",
        "  str = str.replace(\" \", \"\").lower()\n",
        "\n",
        "  if str == str[::-1]:\n",
        "    return True\n",
        "  else:\n",
        "    return False\n",
        "\n",
        "def main():\n",
        "  sentenca = input(\"Entre com a sentença para testar se é palíndromo: \")\n",
        "\n",
        "  if(ePalindromo(sentenca)):\n",
        "    print(sentenca + \" é um palíndromo!\")\n",
        "  else:\n",
        "    print(sentenca + \" NÃO é um palíndromo!\")\n",
        "\n",
        "if __name__ == \"__main__\":\n",
        "  main()"
      ],
      "metadata": {
        "colab": {
          "base_uri": "https://localhost:8080/"
        },
        "id": "1lCDQvPm7Ywq",
        "outputId": "732e94c8-f032-40ba-a8b5-532b4a0bbd7b"
      },
      "execution_count": null,
      "outputs": [
        {
          "output_type": "stream",
          "name": "stdout",
          "text": [
            "Entre com a sentença para testar se é palíndromo: hannah\n",
            "hannah é um palíndromo!\n"
          ]
        }
      ]
    },
    {
      "cell_type": "code",
      "source": [
        "\"\"\"\n",
        "Outra forma de realizar o código acima, definindo a função para RETORNAR STRING\n",
        "\"\"\"\n",
        "\n",
        "import string\n",
        "\n",
        "def ePalindromo(str):\n",
        "  tratar = set(string.punctuation)\n",
        "  str = ''.join(ch for ch in str if ch not in tratar)\n",
        "  str = str.replace(\" \", \"\").lower()\n",
        "  if str == str[::-1]:\n",
        "    return str + \" é um palíndromo!\"\n",
        "  else:\n",
        "    return str + \" NÃO é um palíndromo!\"\n",
        "\n",
        "def main():\n",
        "  sentenca = input(\"Enter a sentence to be tested as a palindrome: \")\n",
        "  print(ePalindromo(sentenca))\n",
        "\n",
        "if __name__ == \"__main__\":\n",
        "    main()"
      ],
      "metadata": {
        "colab": {
          "base_uri": "https://localhost:8080/"
        },
        "id": "KGpktlh9F2Cc",
        "outputId": "f905bbf0-d0b9-42e1-819e-9e7272e1fdac"
      },
      "execution_count": null,
      "outputs": [
        {
          "output_type": "stream",
          "name": "stdout",
          "text": [
            "Enter a sentence to be tested as a palindrome: roma me tem amor\n",
            "romametemamor é um palíndromo!\n"
          ]
        }
      ]
    },
    {
      "cell_type": "code",
      "source": [
        "def ePalindromo(string):\n",
        "  if string == string[::-1]:\n",
        "    return True\n",
        "  else:\n",
        "    return False\n",
        "\n",
        "def main():\n",
        "  entradaUsuario = input(\"Entre com uma palavra para testarmos se é um palíndromo: \")\n",
        "\n",
        "  if (ePalindromo(entradaUsuario)):\n",
        "    print(entradaUsuario + \" é palíndromo!\")\n",
        "  else:\n",
        "    print(entradaUsuario + \" não é palíndromo!\")\n",
        "\n",
        "if __name__ == \"__main__\":\n",
        "    main()"
      ],
      "metadata": {
        "colab": {
          "base_uri": "https://localhost:8080/"
        },
        "id": "uCj_RgAFGRdc",
        "outputId": "d002d99e-058b-474c-9a89-49fc3cf10e38"
      },
      "execution_count": null,
      "outputs": [
        {
          "output_type": "stream",
          "name": "stdout",
          "text": [
            "Entre com uma palavra para testarmos se é um palíndromo: hanah\n",
            "hanah é palíndromo!\n"
          ]
        }
      ]
    }
  ]
}