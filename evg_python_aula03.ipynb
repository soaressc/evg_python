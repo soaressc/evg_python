{
  "nbformat": 4,
  "nbformat_minor": 0,
  "metadata": {
    "colab": {
      "provenance": [],
      "include_colab_link": true
    },
    "kernelspec": {
      "name": "python3",
      "display_name": "Python 3"
    },
    "language_info": {
      "name": "python"
    }
  },
  "cells": [
    {
      "cell_type": "markdown",
      "metadata": {
        "id": "view-in-github",
        "colab_type": "text"
      },
      "source": [
        "<a href=\"https://colab.research.google.com/github/soaressc/evg_python/blob/main/evg_python_aula03.ipynb\" target=\"_parent\"><img src=\"https://colab.research.google.com/assets/colab-badge.svg\" alt=\"Open In Colab\"/></a>"
      ]
    },
    {
      "cell_type": "markdown",
      "source": [
        "Estruturas de Dados\n",
        "\n",
        "\n",
        "\n",
        "1.   Recognize the key characteristics of each structure. Correctly utilize each structure when appropriate and access the corresponding data stored on the structure.\n"
      ],
      "metadata": {
        "id": "j_g8EqBmKQm0"
      }
    },
    {
      "cell_type": "code",
      "source": [
        "# Initiate an empty list\n",
        "list1 = []\n",
        "# OR\n",
        "list1 = list()\n",
        "\n",
        "# Initiate a list with elements\n",
        "list2 = ['hello', 'hola', 'olá']\n",
        "\n",
        "\"\"\"\n",
        "Elements in list does NOT have to be the same type, but this is uncommon.\n",
        "In this case, each list could represent the series of information about a person,\n",
        "but you will need to remember what information is stored at each index. ---> There is a better option for this purpose - dictionary.\n",
        "\"\"\"\n",
        "\n",
        "list3 = [\"John\", \"male\", 20, False]"
      ],
      "metadata": {
        "id": "A7NtiyQ9K3tg"
      },
      "execution_count": null,
      "outputs": []
    },
    {
      "cell_type": "code",
      "source": [
        "# Accessing information stored in the list by position (\"index\")\n",
        "# Note: in CS, first position is ALWAYS 0\n",
        "print(\"Primeiro elemento é\", list2[0])\n",
        "print(\"O segundo elemento é\", list2[1])"
      ],
      "metadata": {
        "colab": {
          "base_uri": "https://localhost:8080/"
        },
        "id": "F8ETXwhsO_fH",
        "outputId": "d19397df-cd11-4efd-c0b7-5cd9e0ace87e"
      },
      "execution_count": null,
      "outputs": [
        {
          "output_type": "stream",
          "name": "stdout",
          "text": [
            "Primeiro elemento é hello\n",
            "O segundo elemento é hola\n"
          ]
        }
      ]
    },
    {
      "cell_type": "code",
      "source": [
        "#entra com um novo elemento em posição específica\n",
        "list2.insert(1, 'hallo')\n",
        "list2[1]"
      ],
      "metadata": {
        "colab": {
          "base_uri": "https://localhost:8080/",
          "height": 36
        },
        "id": "cV-G3dPiPli9",
        "outputId": "44acd4e6-0699-455b-800b-2e516c69187e"
      },
      "execution_count": null,
      "outputs": [
        {
          "output_type": "execute_result",
          "data": {
            "text/plain": [
              "'hallo'"
            ],
            "application/vnd.google.colaboratory.intrinsic+json": {
              "type": "string"
            }
          },
          "metadata": {},
          "execution_count": 3
        }
      ]
    },
    {
      "cell_type": "code",
      "source": [
        "#entra com o novo elemento no final da lista\n",
        "list2.append('bye')\n",
        "list2"
      ],
      "metadata": {
        "colab": {
          "base_uri": "https://localhost:8080/"
        },
        "id": "GCuYmuyMQdqY",
        "outputId": "951c4908-9237-4787-9d2f-757d003ca60e"
      },
      "execution_count": null,
      "outputs": [
        {
          "output_type": "execute_result",
          "data": {
            "text/plain": [
              "['hello', 'hallo', 'hola', 'olá', 'bye']"
            ]
          },
          "metadata": {},
          "execution_count": 4
        }
      ]
    },
    {
      "cell_type": "code",
      "source": [
        "#remove um elemento da lista\n",
        "list2.remove('hello')\n",
        "#list2 depois da remoção do 'hello'\n",
        "list2"
      ],
      "metadata": {
        "colab": {
          "base_uri": "https://localhost:8080/"
        },
        "id": "NP-6Gp0HQvqR",
        "outputId": "27a417f6-735f-4e04-856e-3eb33a78476e"
      },
      "execution_count": null,
      "outputs": [
        {
          "output_type": "execute_result",
          "data": {
            "text/plain": [
              "['hallo', 'hola', 'olá', 'bye']"
            ]
          },
          "metadata": {},
          "execution_count": 5
        }
      ]
    },
    {
      "cell_type": "code",
      "source": [
        "#outra forma de remover elemento da lista\n",
        "\n",
        "list2.append(\"hello\")\n",
        "\n",
        "#pop remove de acordo com a posição\n",
        "list2.pop(0)\n",
        "\n",
        "list2"
      ],
      "metadata": {
        "id": "gwJZqyqJQ_d5",
        "colab": {
          "base_uri": "https://localhost:8080/"
        },
        "outputId": "947c4d15-359c-4a7f-f1cc-e545961c106c"
      },
      "execution_count": null,
      "outputs": [
        {
          "output_type": "execute_result",
          "data": {
            "text/plain": [
              "['olá', 'hello', 'hello', 'hola']"
            ]
          },
          "metadata": {},
          "execution_count": 6
        }
      ]
    },
    {
      "cell_type": "code",
      "source": [
        "#forma de organizar alfabeticamente objetos da lista\n",
        "\n",
        "list2.sort()\n",
        "list2"
      ],
      "metadata": {
        "colab": {
          "base_uri": "https://localhost:8080/"
        },
        "id": "78ouuAMjlYRm",
        "outputId": "10dbbd2b-d9d6-429c-8b51-72023eb3c645"
      },
      "execution_count": null,
      "outputs": [
        {
          "output_type": "execute_result",
          "data": {
            "text/plain": [
              "['hello', 'hello', 'hola', 'olá']"
            ]
          },
          "metadata": {},
          "execution_count": 7
        }
      ]
    },
    {
      "cell_type": "code",
      "source": [
        "#verificar o tamanho da lista (até aquela linha de código, visto que é a lista é dinâmica). note que é necessário transformar o resultado, que é int, em string\n",
        "\n",
        "print(\"tamanho da list1 = \" + str(len(list1)))\n",
        "print(\"tamanho da list2 = \" + str(len(list2)))"
      ],
      "metadata": {
        "colab": {
          "base_uri": "https://localhost:8080/"
        },
        "id": "lFuLyJ1Y-4_b",
        "outputId": "01475736-79e2-49d6-a514-446c7a4901d8"
      },
      "execution_count": null,
      "outputs": [
        {
          "output_type": "stream",
          "name": "stdout",
          "text": [
            "tamanho da list1 = 0\n",
            "tamanho da list2 = 4\n"
          ]
        }
      ]
    },
    {
      "cell_type": "code",
      "source": [
        "#imprimir os itens de uma lista separando por ,\n",
        "\n",
        "\", \".join(list2)"
      ],
      "metadata": {
        "colab": {
          "base_uri": "https://localhost:8080/",
          "height": 36
        },
        "id": "cejI_MQt_6Xn",
        "outputId": "2dc74514-b13d-4aff-bdff-a1d145436d0c"
      },
      "execution_count": null,
      "outputs": [
        {
          "output_type": "execute_result",
          "data": {
            "text/plain": [
              "'bye, hallo, hola, olá'"
            ],
            "application/vnd.google.colaboratory.intrinsic+json": {
              "type": "string"
            }
          },
          "metadata": {},
          "execution_count": 9
        }
      ]
    },
    {
      "cell_type": "code",
      "source": [
        "#listar listas\n",
        "\n",
        "lists = []\n",
        "lists.append([1, 2, 3])\n",
        "lists.append([\"a\", \"b\", \"c\"])\n",
        "lists"
      ],
      "metadata": {
        "colab": {
          "base_uri": "https://localhost:8080/"
        },
        "id": "T-D47dZcCI26",
        "outputId": "737ae364-1dd5-4aab-da8a-a80fef493ef8"
      },
      "execution_count": null,
      "outputs": [
        {
          "output_type": "execute_result",
          "data": {
            "text/plain": [
              "[[1, 2, 3], ['a', 'b', 'c']]"
            ]
          },
          "metadata": {},
          "execution_count": 10
        }
      ]
    },
    {
      "cell_type": "code",
      "source": [
        "print(lists[1])\n",
        "print(lists[1][0])"
      ],
      "metadata": {
        "colab": {
          "base_uri": "https://localhost:8080/"
        },
        "id": "LkZk_mL4CdeS",
        "outputId": "4c2605e5-daea-4ea5-bda2-a3b0facde766"
      },
      "execution_count": null,
      "outputs": [
        {
          "output_type": "stream",
          "name": "stdout",
          "text": [
            "['a', 'b', 'c']\n",
            "a\n"
          ]
        }
      ]
    },
    {
      "cell_type": "code",
      "source": [
        "#inicializa tupla vazia\n",
        "y = tuple()\n",
        "y\n",
        "\n",
        "#cria tupla de elementos\n",
        "x = (1, 2, 3)"
      ],
      "metadata": {
        "id": "Ls6t96yGCpJH"
      },
      "execution_count": null,
      "outputs": []
    },
    {
      "cell_type": "code",
      "source": [
        "x.append(4)"
      ],
      "metadata": {
        "colab": {
          "base_uri": "https://localhost:8080/",
          "height": 182
        },
        "id": "vO2d13tfC6Jp",
        "outputId": "0c09537b-23e9-487e-93eb-e66b304e803f"
      },
      "execution_count": null,
      "outputs": [
        {
          "output_type": "error",
          "ename": "AttributeError",
          "evalue": "ignored",
          "traceback": [
            "\u001b[0;31m---------------------------------------------------------------------------\u001b[0m",
            "\u001b[0;31mAttributeError\u001b[0m                            Traceback (most recent call last)",
            "\u001b[0;32m<ipython-input-13-61ee22000a19>\u001b[0m in \u001b[0;36m<cell line: 1>\u001b[0;34m()\u001b[0m\n\u001b[0;32m----> 1\u001b[0;31m \u001b[0mx\u001b[0m\u001b[0;34m.\u001b[0m\u001b[0mappend\u001b[0m\u001b[0;34m(\u001b[0m\u001b[0;36m4\u001b[0m\u001b[0;34m)\u001b[0m\u001b[0;34m\u001b[0m\u001b[0;34m\u001b[0m\u001b[0m\n\u001b[0m",
            "\u001b[0;31mAttributeError\u001b[0m: 'tuple' object has no attribute 'append'"
          ]
        }
      ]
    },
    {
      "cell_type": "code",
      "source": [
        "#isso pode porque não modifica x, apenas adiciona ao final da tupla nessa linha\n",
        "print(x + (4, 5, 6))\n",
        "print(x)"
      ],
      "metadata": {
        "colab": {
          "base_uri": "https://localhost:8080/"
        },
        "id": "WWE3DmvhDD66",
        "outputId": "f9a82bba-4706-4f4b-d7c2-53a7aaadf06d"
      },
      "execution_count": null,
      "outputs": [
        {
          "output_type": "stream",
          "name": "stdout",
          "text": [
            "(1, 2, 3, 4, 5, 6)\n",
            "(1, 2, 3)\n"
          ]
        }
      ]
    },
    {
      "cell_type": "code",
      "source": [
        "#criar uma nova tupla com x aparecendo duas vezes\n",
        "\n",
        "x * 2"
      ],
      "metadata": {
        "colab": {
          "base_uri": "https://localhost:8080/"
        },
        "id": "QyODa60VEH6j",
        "outputId": "c743ea8e-2e02-479e-d156-88268eb2c9b9"
      },
      "execution_count": null,
      "outputs": [
        {
          "output_type": "execute_result",
          "data": {
            "text/plain": [
              "(1, 2, 3, 1, 2, 3)"
            ]
          },
          "metadata": {},
          "execution_count": 15
        }
      ]
    },
    {
      "cell_type": "code",
      "source": [
        "#índice do elemento na tupla\n",
        "\n",
        "x.index(3)"
      ],
      "metadata": {
        "colab": {
          "base_uri": "https://localhost:8080/"
        },
        "id": "Ng9pfyHBEZK3",
        "outputId": "19970030-8a40-4626-81cb-ae5f4e445cf8"
      },
      "execution_count": null,
      "outputs": [
        {
          "output_type": "execute_result",
          "data": {
            "text/plain": [
              "2"
            ]
          },
          "metadata": {},
          "execution_count": 16
        }
      ]
    },
    {
      "cell_type": "code",
      "source": [
        "#atalho para (a,b,c) = (1,2,3)\n",
        "#ou ainda a = 1, b = 2, c = 3\n",
        "\n",
        "a,b,c = 1,2,3\n",
        "print(a)\n",
        "print(b)\n",
        "print(c)"
      ],
      "metadata": {
        "colab": {
          "base_uri": "https://localhost:8080/"
        },
        "id": "QnG4J7PsFQvP",
        "outputId": "221c96fe-1578-4553-b14c-e208a3456a11"
      },
      "execution_count": null,
      "outputs": [
        {
          "output_type": "stream",
          "name": "stdout",
          "text": [
            "1\n",
            "2\n",
            "3\n"
          ]
        }
      ]
    },
    {
      "cell_type": "code",
      "source": [
        "#converter lista em tupla\n",
        "\n",
        "x = [1,2,3,4]\n",
        "tuple(x)"
      ],
      "metadata": {
        "colab": {
          "base_uri": "https://localhost:8080/"
        },
        "id": "MbeSbmLoHd2j",
        "outputId": "0b737eeb-7cef-424d-b3d0-b147c875ec68"
      },
      "execution_count": null,
      "outputs": [
        {
          "output_type": "execute_result",
          "data": {
            "text/plain": [
              "(1, 2, 3, 4)"
            ]
          },
          "metadata": {},
          "execution_count": 18
        }
      ]
    },
    {
      "cell_type": "code",
      "source": [
        "#declarar uma tupla chamada \"pessoa\"\n",
        "pessoa = ('Soraya', 'Costa', 30)\n",
        "\n",
        "#\"pack\"/associar cada elemento da tupla com uma label. Note a ordem das labels\n",
        "nome, sobrenome, idade = pessoa"
      ],
      "metadata": {
        "id": "pv0YZJ4hIMIo"
      },
      "execution_count": null,
      "outputs": []
    },
    {
      "cell_type": "code",
      "source": [
        "print(nome + \" \" + sobrenome)\n",
        "print(sobrenome)\n",
        "print(idade)"
      ],
      "metadata": {
        "colab": {
          "base_uri": "https://localhost:8080/"
        },
        "id": "vGE5u1ePI2Jt",
        "outputId": "cdd4e854-e7f8-4da8-fcd1-bb4dd47b2f15"
      },
      "execution_count": null,
      "outputs": [
        {
          "output_type": "stream",
          "name": "stdout",
          "text": [
            "Soraya Costa\n",
            "Costa\n",
            "30\n"
          ]
        }
      ]
    },
    {
      "cell_type": "code",
      "source": [
        "#ERRO: x é uma tupla com 4 valores mas se tenta unpack 3 elementos da tupla (mismatch no tamanho da tupla)\n",
        "x = (1,2,3,4)\n",
        "a,b,c = x"
      ],
      "metadata": {
        "colab": {
          "base_uri": "https://localhost:8080/",
          "height": 219
        },
        "id": "kfs3zLYQJQx-",
        "outputId": "d39f6d90-63d4-457c-a6c9-52bfa6dcede5"
      },
      "execution_count": null,
      "outputs": [
        {
          "output_type": "error",
          "ename": "ValueError",
          "evalue": "ignored",
          "traceback": [
            "\u001b[0;31m---------------------------------------------------------------------------\u001b[0m",
            "\u001b[0;31mValueError\u001b[0m                                Traceback (most recent call last)",
            "\u001b[0;32m<ipython-input-21-13209d1a5192>\u001b[0m in \u001b[0;36m<cell line: 3>\u001b[0;34m()\u001b[0m\n\u001b[1;32m      1\u001b[0m \u001b[0;31m#ERRO: x é uma tupla com 4 valores mas se tenta unpack 3 elementos da tupla (mismatch no tamanho da tupla)\u001b[0m\u001b[0;34m\u001b[0m\u001b[0;34m\u001b[0m\u001b[0m\n\u001b[1;32m      2\u001b[0m \u001b[0mx\u001b[0m \u001b[0;34m=\u001b[0m \u001b[0;34m(\u001b[0m\u001b[0;36m1\u001b[0m\u001b[0;34m,\u001b[0m\u001b[0;36m2\u001b[0m\u001b[0;34m,\u001b[0m\u001b[0;36m3\u001b[0m\u001b[0;34m,\u001b[0m\u001b[0;36m4\u001b[0m\u001b[0;34m)\u001b[0m\u001b[0;34m\u001b[0m\u001b[0;34m\u001b[0m\u001b[0m\n\u001b[0;32m----> 3\u001b[0;31m \u001b[0ma\u001b[0m\u001b[0;34m,\u001b[0m\u001b[0mb\u001b[0m\u001b[0;34m,\u001b[0m\u001b[0mc\u001b[0m \u001b[0;34m=\u001b[0m \u001b[0mx\u001b[0m\u001b[0;34m\u001b[0m\u001b[0;34m\u001b[0m\u001b[0m\n\u001b[0m",
            "\u001b[0;31mValueError\u001b[0m: too many values to unpack (expected 3)"
          ]
        }
      ]
    },
    {
      "cell_type": "code",
      "source": [
        "x = [1,2,3,4]\n",
        "a,b,c,d = x\n",
        "print(a)\n",
        "print(b)\n",
        "print(c)\n",
        "print(d)"
      ],
      "metadata": {
        "colab": {
          "base_uri": "https://localhost:8080/"
        },
        "id": "zrJKVZl3pKMV",
        "outputId": "154396f9-3b6e-4334-d72d-24effd26f8bc"
      },
      "execution_count": null,
      "outputs": [
        {
          "output_type": "stream",
          "name": "stdout",
          "text": [
            "1\n",
            "2\n",
            "3\n",
            "4\n"
          ]
        }
      ]
    },
    {
      "cell_type": "code",
      "source": [
        "#Conjunto: uma estrutura de dados mutável que armazena objetos não duplicados\n",
        "#e imutáveis e organiza os elementos em ordem crescente (cada elemento e único)\n",
        "newSet = set()\n",
        "newSet"
      ],
      "metadata": {
        "colab": {
          "base_uri": "https://localhost:8080/"
        },
        "id": "hP0Qt0uEp0hY",
        "outputId": "95d7508b-6427-4dea-852f-d219268fd1eb"
      },
      "execution_count": null,
      "outputs": [
        {
          "output_type": "execute_result",
          "data": {
            "text/plain": [
              "set()"
            ]
          },
          "metadata": {},
          "execution_count": 23
        }
      ]
    },
    {
      "cell_type": "code",
      "source": [
        "#Um conjunto com elementos\n",
        "ex1 = {1, 2, 2, 1, 1}\n",
        "ex1"
      ],
      "metadata": {
        "colab": {
          "base_uri": "https://localhost:8080/"
        },
        "id": "hmqVZUn9tpuR",
        "outputId": "63657a48-4519-450e-94f8-863cb2bb7489"
      },
      "execution_count": null,
      "outputs": [
        {
          "output_type": "execute_result",
          "data": {
            "text/plain": [
              "{1, 2}"
            ]
          },
          "metadata": {},
          "execution_count": 24
        }
      ]
    },
    {
      "cell_type": "code",
      "source": [
        "ex2 = {j for j in range(10)}\n",
        "ex2"
      ],
      "metadata": {
        "colab": {
          "base_uri": "https://localhost:8080/"
        },
        "id": "dRHKNMRHty35",
        "outputId": "49164740-935a-43f1-8ee6-8207082dd77f"
      },
      "execution_count": null,
      "outputs": [
        {
          "output_type": "execute_result",
          "data": {
            "text/plain": [
              "{0, 1, 2, 3, 4, 5, 6, 7, 8, 9}"
            ]
          },
          "metadata": {},
          "execution_count": 25
        }
      ]
    },
    {
      "cell_type": "code",
      "source": [
        "#append() não está definido para conjunto, se usa add()\n",
        "#add() vai inserir na ordem correta\n",
        "ex2.add(2)\n",
        "ex2.add(100)\n",
        "ex2.add(50)\n",
        "ex2"
      ],
      "metadata": {
        "colab": {
          "base_uri": "https://localhost:8080/"
        },
        "id": "PzFbFPoLt3sV",
        "outputId": "f64ddc6c-88b0-4df1-cc1e-95a7c7641617"
      },
      "execution_count": null,
      "outputs": [
        {
          "output_type": "execute_result",
          "data": {
            "text/plain": [
              "{0, 1, 2, 3, 4, 5, 6, 7, 8, 9, 50, 100}"
            ]
          },
          "metadata": {},
          "execution_count": 26
        }
      ]
    },
    {
      "cell_type": "code",
      "source": [
        "#elementos mutáveis não podem ser inseridos no conjunto\n",
        "d_set = {[1,2,3]}\n",
        "d_set"
      ],
      "metadata": {
        "colab": {
          "base_uri": "https://localhost:8080/",
          "height": 219
        },
        "id": "xUS4FG_QvjVq",
        "outputId": "3d89551d-2076-4228-cb68-7cb1954b4ed6"
      },
      "execution_count": null,
      "outputs": [
        {
          "output_type": "error",
          "ename": "TypeError",
          "evalue": "ignored",
          "traceback": [
            "\u001b[0;31m---------------------------------------------------------------------------\u001b[0m",
            "\u001b[0;31mTypeError\u001b[0m                                 Traceback (most recent call last)",
            "\u001b[0;32m<ipython-input-27-85532d3c8e3b>\u001b[0m in \u001b[0;36m<cell line: 2>\u001b[0;34m()\u001b[0m\n\u001b[1;32m      1\u001b[0m \u001b[0;31m#elementos mutáveis não podem ser inseridos no conjunto\u001b[0m\u001b[0;34m\u001b[0m\u001b[0;34m\u001b[0m\u001b[0m\n\u001b[0;32m----> 2\u001b[0;31m \u001b[0md_set\u001b[0m \u001b[0;34m=\u001b[0m \u001b[0;34m{\u001b[0m\u001b[0;34m[\u001b[0m\u001b[0;36m1\u001b[0m\u001b[0;34m,\u001b[0m\u001b[0;36m2\u001b[0m\u001b[0;34m,\u001b[0m\u001b[0;36m3\u001b[0m\u001b[0;34m]\u001b[0m\u001b[0;34m}\u001b[0m\u001b[0;34m\u001b[0m\u001b[0;34m\u001b[0m\u001b[0m\n\u001b[0m\u001b[1;32m      3\u001b[0m \u001b[0md_set\u001b[0m\u001b[0;34m\u001b[0m\u001b[0;34m\u001b[0m\u001b[0m\n",
            "\u001b[0;31mTypeError\u001b[0m: unhashable type: 'list'"
          ]
        }
      ]
    },
    {
      "cell_type": "code",
      "source": [
        "#converter lista para conjunto\n",
        "ages = [10, 5, 4, 2, 1, 5]\n",
        "set_of_ages = set(ages)\n",
        "set_of_ages"
      ],
      "metadata": {
        "colab": {
          "base_uri": "https://localhost:8080/"
        },
        "id": "ayN7e81zvvzB",
        "outputId": "cac8fd6c-1e3c-4cf9-9c8f-a2cd65842406"
      },
      "execution_count": null,
      "outputs": [
        {
          "output_type": "execute_result",
          "data": {
            "text/plain": [
              "{1, 2, 4, 5, 10}"
            ]
          },
          "metadata": {},
          "execution_count": 28
        }
      ]
    },
    {
      "cell_type": "code",
      "source": [
        "#converter conjunto para lista\n",
        "list_of_ages = list(set_of_ages)\n",
        "set_of_ages"
      ],
      "metadata": {
        "colab": {
          "base_uri": "https://localhost:8080/"
        },
        "id": "6t9aUEbOwHvD",
        "outputId": "84a0750a-4dc2-40cd-c608-c2cd00bffb9b"
      },
      "execution_count": null,
      "outputs": [
        {
          "output_type": "execute_result",
          "data": {
            "text/plain": [
              "{1, 2, 4, 5, 10}"
            ]
          },
          "metadata": {},
          "execution_count": 29
        }
      ]
    },
    {
      "cell_type": "code",
      "source": [
        "#converter conjunto para uma tupla\n",
        "tuple_of_ages = tuple(list_of_ages)\n",
        "tuple_of_ages"
      ],
      "metadata": {
        "colab": {
          "base_uri": "https://localhost:8080/"
        },
        "id": "6DZSSfIWwMBh",
        "outputId": "5d6a6a65-6c06-4526-fe5a-1c50b3b71e6f"
      },
      "execution_count": null,
      "outputs": [
        {
          "output_type": "execute_result",
          "data": {
            "text/plain": [
              "(1, 2, 4, 5, 10)"
            ]
          },
          "metadata": {},
          "execution_count": 30
        }
      ]
    },
    {
      "cell_type": "code",
      "source": [
        "#ordem é irrelevante em comparação de conjuntos\n",
        "{1,2,3} == {2,1,3}"
      ],
      "metadata": {
        "colab": {
          "base_uri": "https://localhost:8080/"
        },
        "id": "3QPVKUDjwZEf",
        "outputId": "a6d7b5fe-26d6-4411-f7ec-845e27d3b5c7"
      },
      "execution_count": null,
      "outputs": [
        {
          "output_type": "execute_result",
          "data": {
            "text/plain": [
              "True"
            ]
          },
          "metadata": {},
          "execution_count": 31
        }
      ]
    },
    {
      "cell_type": "markdown",
      "source": [
        "Dicionário\n",
        "\n",
        "Estrutura que armazera valores-chave em pares, nos quais as chaves DEVEM ser objetos imutáveis"
      ],
      "metadata": {
        "id": "FHmwIPkUxB0w"
      }
    },
    {
      "cell_type": "code",
      "source": [
        "#iniciar um dicionário vazio\n",
        "dict = {}\n",
        "\n",
        "#declarar um dicionário com chave/valor\n",
        "dict2 = {'a':5, 'b': 10, 'c': 100, 'd': 9.5}"
      ],
      "metadata": {
        "id": "N38qZj9BBzCu"
      },
      "execution_count": null,
      "outputs": []
    },
    {
      "cell_type": "code",
      "source": [
        "#acessando dados no dicionário com uma chave\n",
        "dict2['b']"
      ],
      "metadata": {
        "colab": {
          "base_uri": "https://localhost:8080/"
        },
        "id": "GvcY_XxWCSqy",
        "outputId": "56c5a993-64ac-41ec-d919-a29925a419c6"
      },
      "execution_count": null,
      "outputs": [
        {
          "output_type": "execute_result",
          "data": {
            "text/plain": [
              "10"
            ]
          },
          "metadata": {},
          "execution_count": 33
        }
      ]
    },
    {
      "cell_type": "code",
      "source": [
        "#atualizar o valor de uma chave existente\n",
        "dict2['b'] = 50\n",
        "dict2['b']"
      ],
      "metadata": {
        "colab": {
          "base_uri": "https://localhost:8080/"
        },
        "id": "uYRCtHaxCalo",
        "outputId": "9ef8754e-131f-4805-e12a-9f0346e2cfe6"
      },
      "execution_count": null,
      "outputs": [
        {
          "output_type": "execute_result",
          "data": {
            "text/plain": [
              "50"
            ]
          },
          "metadata": {},
          "execution_count": 34
        }
      ]
    },
    {
      "cell_type": "code",
      "source": [
        "# What happens if we want to access the value for a non-existing key? (e.g. 'z')\n",
        "\n",
        "# We might expect an ERROR because this key doesn't exist, so it doesn't have a value.\n",
        "# That is a correct assumption.\n",
        "dict2['z']"
      ],
      "metadata": {
        "id": "RasRmC-zC00s",
        "colab": {
          "base_uri": "https://localhost:8080/",
          "height": 219
        },
        "outputId": "ecf8b692-cc53-43d8-f592-f95c90207047"
      },
      "execution_count": null,
      "outputs": [
        {
          "output_type": "error",
          "ename": "KeyError",
          "evalue": "ignored",
          "traceback": [
            "\u001b[0;31m---------------------------------------------------------------------------\u001b[0m",
            "\u001b[0;31mKeyError\u001b[0m                                  Traceback (most recent call last)",
            "\u001b[0;32m<ipython-input-35-44d9cd289a1c>\u001b[0m in \u001b[0;36m<cell line: 5>\u001b[0;34m()\u001b[0m\n\u001b[1;32m      3\u001b[0m \u001b[0;31m# We might expect an ERROR because this key doesn't exist, so it doesn't have a value.\u001b[0m\u001b[0;34m\u001b[0m\u001b[0;34m\u001b[0m\u001b[0m\n\u001b[1;32m      4\u001b[0m \u001b[0;31m# That is a correct assumption.\u001b[0m\u001b[0;34m\u001b[0m\u001b[0;34m\u001b[0m\u001b[0m\n\u001b[0;32m----> 5\u001b[0;31m \u001b[0mdict2\u001b[0m\u001b[0;34m[\u001b[0m\u001b[0;34m'z'\u001b[0m\u001b[0;34m]\u001b[0m\u001b[0;34m\u001b[0m\u001b[0;34m\u001b[0m\u001b[0m\n\u001b[0m",
            "\u001b[0;31mKeyError\u001b[0m: 'z'"
          ]
        }
      ]
    },
    {
      "cell_type": "code",
      "source": [
        "# But if what if we do this, will this still return an ERROR?\n",
        "dict2['z'] = 999\n",
        "\n",
        "dict2['z']"
      ],
      "metadata": {
        "colab": {
          "base_uri": "https://localhost:8080/"
        },
        "id": "Z0oqiHF4qe3Z",
        "outputId": "1708bfde-c25b-4cbb-a86c-fad6006c7b9b"
      },
      "execution_count": null,
      "outputs": [
        {
          "output_type": "execute_result",
          "data": {
            "text/plain": [
              "999"
            ]
          },
          "metadata": {},
          "execution_count": 36
        }
      ]
    },
    {
      "cell_type": "markdown",
      "source": [
        "WHY??\n",
        "\n",
        "The previous block of code works because we \"update\" the value of the key first, update = insert (in this case), and by the time we want to access the value of this key, this key already exists in the dictionary for the assigned mapping."
      ],
      "metadata": {
        "id": "s5GVMxgtqorx"
      }
    },
    {
      "cell_type": "code",
      "source": [
        "#valores no dicionário podem ter tipos mistos\n",
        "\n",
        "dict[\"greeting\"] = \"hello message\"\n",
        "dict[\"alphabet\"] = ['a', 'b', 'c', 'c', 'e']\n",
        "dict[\"check-in\"] = False\n",
        "dict[\"phoneNumber\"] = 8007782346\n",
        "\n",
        "dict"
      ],
      "metadata": {
        "colab": {
          "base_uri": "https://localhost:8080/"
        },
        "id": "rCeP15L8qreB",
        "outputId": "9ee95a6e-cd40-4abc-8710-f2f05d2056c6"
      },
      "execution_count": null,
      "outputs": [
        {
          "output_type": "execute_result",
          "data": {
            "text/plain": [
              "{'greeting': 'hello message',\n",
              " 'alphabet': ['a', 'b', 'c', 'c', 'e'],\n",
              " 'check-in': False,\n",
              " 'phoneNumber': 8007782346}"
            ]
          },
          "metadata": {},
          "execution_count": 37
        }
      ]
    },
    {
      "cell_type": "code",
      "source": [
        "# IMPORTANT Note: key must be immutatble objects (something that cannot be changed)\n",
        "# String is immutable, because you could not just delete a character in a string. A string is a string, the way it is.\n",
        "\n",
        "# From above, we see that a list can be a value in the dictionary.\n",
        "# What happen when we try to make it a key?\n",
        "\n",
        "# ERROR: unhashable type of list\n",
        "\n",
        "# Because we could modify the list by inserting new element, sorting elements,\n",
        "#deleting elements, or other ways of modifying it, it CANNOT be a key\n",
        "\n",
        "dict[['a','b', 'c']] = [False, True, False]"
      ],
      "metadata": {
        "colab": {
          "base_uri": "https://localhost:8080/",
          "height": 219
        },
        "id": "A_TeBe3ArzzY",
        "outputId": "7043670b-52e0-45e2-a1f0-7adb9112685c"
      },
      "execution_count": null,
      "outputs": [
        {
          "output_type": "error",
          "ename": "TypeError",
          "evalue": "ignored",
          "traceback": [
            "\u001b[0;31m---------------------------------------------------------------------------\u001b[0m",
            "\u001b[0;31mTypeError\u001b[0m                                 Traceback (most recent call last)",
            "\u001b[0;32m<ipython-input-38-95d1477eb98c>\u001b[0m in \u001b[0;36m<cell line: 12>\u001b[0;34m()\u001b[0m\n\u001b[1;32m     10\u001b[0m \u001b[0;31m#deleting elements, or other ways of modifying it, it CANNOT be a key\u001b[0m\u001b[0;34m\u001b[0m\u001b[0;34m\u001b[0m\u001b[0m\n\u001b[1;32m     11\u001b[0m \u001b[0;34m\u001b[0m\u001b[0m\n\u001b[0;32m---> 12\u001b[0;31m \u001b[0mdict\u001b[0m\u001b[0;34m[\u001b[0m\u001b[0;34m[\u001b[0m\u001b[0;34m'a'\u001b[0m\u001b[0;34m,\u001b[0m\u001b[0;34m'b'\u001b[0m\u001b[0;34m,\u001b[0m \u001b[0;34m'c'\u001b[0m\u001b[0;34m]\u001b[0m\u001b[0;34m]\u001b[0m \u001b[0;34m=\u001b[0m \u001b[0;34m[\u001b[0m\u001b[0;32mFalse\u001b[0m\u001b[0;34m,\u001b[0m \u001b[0;32mTrue\u001b[0m\u001b[0;34m,\u001b[0m \u001b[0;32mFalse\u001b[0m\u001b[0;34m]\u001b[0m\u001b[0;34m\u001b[0m\u001b[0;34m\u001b[0m\u001b[0m\n\u001b[0m",
            "\u001b[0;31mTypeError\u001b[0m: unhashable type: 'list'"
          ]
        }
      ]
    },
    {
      "cell_type": "code",
      "source": [
        "#Lembrando que a chave precisa ser imutável, portanto:\n",
        "# But since tuple is immutatble, we could replace the list with a tuple\n",
        "dict[('a','b', 'c')] = [False, True, False]\n",
        "\n",
        "dict"
      ],
      "metadata": {
        "colab": {
          "base_uri": "https://localhost:8080/"
        },
        "id": "lwxr_vTYr6uv",
        "outputId": "8666dc82-ebc7-488f-c2ad-ab0a157b2f4c"
      },
      "execution_count": null,
      "outputs": [
        {
          "output_type": "execute_result",
          "data": {
            "text/plain": [
              "{'greeting': 'hello message',\n",
              " 'alphabet': ['a', 'b', 'c', 'c', 'e'],\n",
              " 'check-in': False,\n",
              " 'phoneNumber': 8007782346,\n",
              " ('a', 'b', 'c'): [False, True, False]}"
            ]
          },
          "metadata": {},
          "execution_count": 39
        }
      ]
    },
    {
      "cell_type": "code",
      "source": [
        "#chaves\n",
        "dict.keys()"
      ],
      "metadata": {
        "colab": {
          "base_uri": "https://localhost:8080/"
        },
        "id": "NYiWHKdLsH_o",
        "outputId": "26ad0f1f-4150-4c30-f740-789d1a016443"
      },
      "execution_count": null,
      "outputs": [
        {
          "output_type": "execute_result",
          "data": {
            "text/plain": [
              "dict_keys(['greeting', 'alphabet', 'check-in', 'phoneNumber', ('a', 'b', 'c')])"
            ]
          },
          "metadata": {},
          "execution_count": 41
        }
      ]
    },
    {
      "cell_type": "code",
      "source": [
        "#valores das chaves\n",
        "dict.values()"
      ],
      "metadata": {
        "colab": {
          "base_uri": "https://localhost:8080/"
        },
        "id": "PZSKBlq4sLAH",
        "outputId": "5ec75214-effc-4bf8-8ed8-106baebe1b61"
      },
      "execution_count": null,
      "outputs": [
        {
          "output_type": "execute_result",
          "data": {
            "text/plain": [
              "dict_values(['hello message', ['a', 'b', 'c', 'c', 'e'], False, 8007782346, [False, True, False]])"
            ]
          },
          "metadata": {},
          "execution_count": 42
        }
      ]
    },
    {
      "cell_type": "code",
      "source": [
        "#elementos retornados como pares\n",
        "dict.items()"
      ],
      "metadata": {
        "colab": {
          "base_uri": "https://localhost:8080/"
        },
        "id": "rHdVtwl1sOzi",
        "outputId": "045b976c-d307-4616-b745-c3d9207d2f7e"
      },
      "execution_count": null,
      "outputs": [
        {
          "output_type": "execute_result",
          "data": {
            "text/plain": [
              "dict_items([('greeting', 'hello message'), ('alphabet', ['a', 'b', 'c', 'c', 'e']), ('check-in', False), ('phoneNumber', 8007782346), (('a', 'b', 'c'), [False, True, False])])"
            ]
          },
          "metadata": {},
          "execution_count": 43
        }
      ]
    }
  ]
}