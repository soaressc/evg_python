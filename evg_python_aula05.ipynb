{
  "nbformat": 4,
  "nbformat_minor": 0,
  "metadata": {
    "colab": {
      "provenance": [],
      "authorship_tag": "ABX9TyPNp0Ag5geVr7vmuuTLXNOf",
      "include_colab_link": true
    },
    "kernelspec": {
      "name": "python3",
      "display_name": "Python 3"
    },
    "language_info": {
      "name": "python"
    }
  },
  "cells": [
    {
      "cell_type": "markdown",
      "metadata": {
        "id": "view-in-github",
        "colab_type": "text"
      },
      "source": [
        "<a href=\"https://colab.research.google.com/github/soaressc/evg_python/blob/main/evg_python_aula05.ipynb\" target=\"_parent\"><img src=\"https://colab.research.google.com/assets/colab-badge.svg\" alt=\"Open In Colab\"/></a>"
      ]
    },
    {
      "cell_type": "markdown",
      "source": [
        "#Module 5: Uses and Applications of Libraries\n",
        "\n",
        "Learning Objectives:\n",
        "\n",
        "\n",
        "\n",
        "1.   Apply the Math library to solve computation problems.\n",
        "2.   Apply the Numpy, Scipy, Matplotlib libraries for data analysis and graph generation.\n",
        "3.   Apply the Flask framework for web development and understand the relationship with HTML.\n",
        "\n",
        "##5.1: Math\n",
        "\n",
        "Common mathematical functions, such as absolute value, exponential, or log, are defined within the Math library.\n",
        "\n",
        "Additional functions and spec of the Math Library can be found in https://docs.python.org/3/library/math.html\n",
        "\n",
        "Take below for examples of how to use the Math library."
      ],
      "metadata": {
        "id": "4Rc4eEebozjw"
      }
    },
    {
      "cell_type": "code",
      "execution_count": 2,
      "metadata": {
        "colab": {
          "base_uri": "https://localhost:8080/"
        },
        "id": "51CHixJ1nJTm",
        "outputId": "218e3226-ec30-4c18-bce9-198f3d5ecd8f"
      },
      "outputs": [
        {
          "output_type": "stream",
          "name": "stdout",
          "text": [
            "2^5 = 32.0\n"
          ]
        }
      ],
      "source": [
        "import math\n",
        "\n",
        "# Power function\n",
        "print(\"2^5 = \" + str(math.pow(2,5)))"
      ]
    },
    {
      "cell_type": "code",
      "source": [
        "# Ceiling function\n",
        "print(math.ceil(3.45))\n",
        "\n",
        "print(math.ceil(10.01))"
      ],
      "metadata": {
        "colab": {
          "base_uri": "https://localhost:8080/"
        },
        "id": "_0rLhWDWpSso",
        "outputId": "8d8d3e0f-f279-4983-b1fc-e8a264e4a7da"
      },
      "execution_count": 3,
      "outputs": [
        {
          "output_type": "stream",
          "name": "stdout",
          "text": [
            "4\n",
            "11\n"
          ]
        }
      ]
    },
    {
      "cell_type": "code",
      "source": [
        "# Floor function\n",
        "print(math.floor(5.25))\n",
        "\n",
        "print(math.floor(11.01))"
      ],
      "metadata": {
        "colab": {
          "base_uri": "https://localhost:8080/"
        },
        "id": "KuxehgqCpUDN",
        "outputId": "62510b3e-1982-4ce6-ffd4-e3a13799a1f5"
      },
      "execution_count": 4,
      "outputs": [
        {
          "output_type": "stream",
          "name": "stdout",
          "text": [
            "5\n",
            "11\n"
          ]
        }
      ]
    },
    {
      "cell_type": "code",
      "source": [
        "# Absolute Value\n",
        "print(math.fabs(-10.33))\n",
        "\n",
        "print(math.fabs(5.25))"
      ],
      "metadata": {
        "colab": {
          "base_uri": "https://localhost:8080/"
        },
        "id": "HsX1xlKPpdFd",
        "outputId": "e693935f-ed37-4dec-e36f-2992699353bb"
      },
      "execution_count": 5,
      "outputs": [
        {
          "output_type": "stream",
          "name": "stdout",
          "text": [
            "10.33\n",
            "5.25\n"
          ]
        }
      ]
    },
    {
      "cell_type": "code",
      "source": [
        "# Log with base e, or natural log\n",
        "print(math.log(1000))"
      ],
      "metadata": {
        "colab": {
          "base_uri": "https://localhost:8080/"
        },
        "id": "Zt3F1aG4pe6J",
        "outputId": "030d7dde-e633-464e-d6d0-126f592a2b3f"
      },
      "execution_count": 6,
      "outputs": [
        {
          "output_type": "stream",
          "name": "stdout",
          "text": [
            "6.907755278982137\n"
          ]
        }
      ]
    },
    {
      "cell_type": "code",
      "source": [
        "# Log with a specified base of 10\n",
        "print(math.log(1000,10))"
      ],
      "metadata": {
        "colab": {
          "base_uri": "https://localhost:8080/"
        },
        "id": "e34g773QphKQ",
        "outputId": "6897dd09-3615-4379-ffb1-bbfea85d37a2"
      },
      "execution_count": 7,
      "outputs": [
        {
          "output_type": "stream",
          "name": "stdout",
          "text": [
            "2.9999999999999996\n"
          ]
        }
      ]
    },
    {
      "cell_type": "markdown",
      "source": [
        "##5.2: Data Analysis with Numpy, Matplotlib, Scipy\n",
        "\n",
        "Numpy is a package for numeric computing in python.\n",
        "\n",
        "*   It provides an efficient data structure for numeric, n-dimensional arrays (ndarray)\n",
        "*   Supports vector and matrix operations.\n",
        "*   Numpy is implemented in C, so it is really fast and efficient.\n",
        "\n",
        "The basic data type in numpy is the numpy n-dimensional array. These can be used to represent vectors (1D) matrices (2D) or tensors (nD).\n",
        "\n",
        "*   1 dimensions numpy arrays are often used to represent a series of data.\n",
        "*   n-dimensional arrays often represent complete data sets (each column is a type of measurement).\n",
        "\n",
        "  Numpy arrays are very similar to Python lists. Indexing and slicing works the same way (including assingments). **However**, all cells in the same array must contain the same data type.\n",
        "\n",
        "Operators don't work the same for lists and arrays and there are many additional methods defined on them.\n",
        "\n",
        "Referenced from *Columbia University CS Professor Daniel Bauer ENGI1006 Lecture*\n"
      ],
      "metadata": {
        "id": "NF7pSCBQpwWo"
      }
    },
    {
      "cell_type": "code",
      "source": [
        "# Let's see what happen if we use a list to represent a vector?\n",
        "[1,2,3] * 3"
      ],
      "metadata": {
        "colab": {
          "base_uri": "https://localhost:8080/"
        },
        "id": "TdozLhcVpi98",
        "outputId": "ba0e0217-aea9-4c29-bce2-ca4d44b9a41d"
      },
      "execution_count": 8,
      "outputs": [
        {
          "output_type": "execute_result",
          "data": {
            "text/plain": [
              "[1, 2, 3, 1, 2, 3, 1, 2, 3]"
            ]
          },
          "metadata": {},
          "execution_count": 8
        }
      ]
    },
    {
      "cell_type": "code",
      "source": [
        "# Previous was NOT the expected output with vector multiplication by a scalar\n",
        "\n",
        "# Need to do this\n",
        "[i*3 for i in [1,2,3]]"
      ],
      "metadata": {
        "colab": {
          "base_uri": "https://localhost:8080/"
        },
        "id": "LtqCQ0s6qV93",
        "outputId": "fab7c183-b092-491a-cc57-ea5ed692992b"
      },
      "execution_count": 9,
      "outputs": [
        {
          "output_type": "execute_result",
          "data": {
            "text/plain": [
              "[3, 6, 9]"
            ]
          },
          "metadata": {},
          "execution_count": 9
        }
      ]
    },
    {
      "cell_type": "code",
      "source": [
        "# What about summing two vectors?\n",
        "\n",
        "# Treated as list concatenation\n",
        "[1,2,3]+[4,5,6]"
      ],
      "metadata": {
        "colab": {
          "base_uri": "https://localhost:8080/"
        },
        "id": "Km6pyMXSqd5F",
        "outputId": "5e195ad7-4ff1-4fef-9f60-d0cc13967a59"
      },
      "execution_count": 10,
      "outputs": [
        {
          "output_type": "execute_result",
          "data": {
            "text/plain": [
              "[1, 2, 3, 4, 5, 6]"
            ]
          },
          "metadata": {},
          "execution_count": 10
        }
      ]
    },
    {
      "cell_type": "code",
      "source": [
        "# Sum two vectors\n",
        "a = [1,2,3]\n",
        "b = [4,5,6]\n",
        "[a[i] + b[i] for i in range(len(a))]"
      ],
      "metadata": {
        "colab": {
          "base_uri": "https://localhost:8080/"
        },
        "id": "FfuvRztQqeru",
        "outputId": "4e2fab0a-3fc4-4a91-b734-b44ae41c2013"
      },
      "execution_count": 11,
      "outputs": [
        {
          "output_type": "execute_result",
          "data": {
            "text/plain": [
              "[5, 7, 9]"
            ]
          },
          "metadata": {},
          "execution_count": 11
        }
      ]
    },
    {
      "cell_type": "code",
      "source": [
        "# cross product or dot product?\n",
        "[1,2,3] * [4,5,6]"
      ],
      "metadata": {
        "colab": {
          "base_uri": "https://localhost:8080/",
          "height": 193
        },
        "id": "220RMYYHqiA_",
        "outputId": "e2382190-77f3-4bbd-8dcf-4ed95f4e0337"
      },
      "execution_count": 12,
      "outputs": [
        {
          "output_type": "error",
          "ename": "TypeError",
          "evalue": "ignored",
          "traceback": [
            "\u001b[0;31m---------------------------------------------------------------------------\u001b[0m",
            "\u001b[0;31mTypeError\u001b[0m                                 Traceback (most recent call last)",
            "\u001b[0;32m<ipython-input-12-a661702feff9>\u001b[0m in \u001b[0;36m<cell line: 2>\u001b[0;34m()\u001b[0m\n\u001b[1;32m      1\u001b[0m \u001b[0;31m# cross product or dot product?\u001b[0m\u001b[0;34m\u001b[0m\u001b[0;34m\u001b[0m\u001b[0m\n\u001b[0;32m----> 2\u001b[0;31m \u001b[0;34m[\u001b[0m\u001b[0;36m1\u001b[0m\u001b[0;34m,\u001b[0m\u001b[0;36m2\u001b[0m\u001b[0;34m,\u001b[0m\u001b[0;36m3\u001b[0m\u001b[0;34m]\u001b[0m \u001b[0;34m*\u001b[0m \u001b[0;34m[\u001b[0m\u001b[0;36m4\u001b[0m\u001b[0;34m,\u001b[0m\u001b[0;36m5\u001b[0m\u001b[0;34m,\u001b[0m\u001b[0;36m6\u001b[0m\u001b[0;34m]\u001b[0m\u001b[0;34m\u001b[0m\u001b[0;34m\u001b[0m\u001b[0m\n\u001b[0m",
            "\u001b[0;31mTypeError\u001b[0m: can't multiply sequence by non-int of type 'list'"
          ]
        }
      ]
    },
    {
      "cell_type": "code",
      "source": [
        "# We could compute the dot product like this:\n",
        "\n",
        "u = [1,2,3]\n",
        "v = [4,5,6]\n",
        "\n",
        "total = 0\n",
        "for i in range(len(u)):\n",
        "    total += u[i] * v[i]\n",
        "total"
      ],
      "metadata": {
        "colab": {
          "base_uri": "https://localhost:8080/"
        },
        "id": "3Af1Rhlvqo04",
        "outputId": "47f37a66-8a57-45b3-d5c9-0e908ab86190"
      },
      "execution_count": 14,
      "outputs": [
        {
          "output_type": "execute_result",
          "data": {
            "text/plain": [
              "32"
            ]
          },
          "metadata": {},
          "execution_count": 14
        }
      ]
    },
    {
      "cell_type": "code",
      "source": [
        "# Let's see what happens if we use Numpy\n",
        "\n",
        "# np is a common convention to refer to numpy throughout the code\n",
        "import numpy as np\n",
        "\n",
        "u = np.array([1,2,3])\n",
        "v = np.array([4,5,6])\n",
        "\n",
        "# dot() calculates the dot product of two vectors\n",
        "np.dot(u,v)\n"
      ],
      "metadata": {
        "colab": {
          "base_uri": "https://localhost:8080/"
        },
        "id": "7x1etprYq9GR",
        "outputId": "0a6dd30a-4f77-4c7a-a442-53b8dd2a2a9c"
      },
      "execution_count": 15,
      "outputs": [
        {
          "output_type": "execute_result",
          "data": {
            "text/plain": [
              "32"
            ]
          },
          "metadata": {},
          "execution_count": 15
        }
      ]
    },
    {
      "cell_type": "code",
      "source": [
        "type(u)"
      ],
      "metadata": {
        "colab": {
          "base_uri": "https://localhost:8080/"
        },
        "id": "0i1pfwnQrf6j",
        "outputId": "8bd5ee38-d271-494a-b57b-3eb7765050eb"
      },
      "execution_count": 16,
      "outputs": [
        {
          "output_type": "execute_result",
          "data": {
            "text/plain": [
              "numpy.ndarray"
            ]
          },
          "metadata": {},
          "execution_count": 16
        }
      ]
    },
    {
      "cell_type": "code",
      "source": [
        "# Some more operations on 1D-arrays:\n",
        "\n",
        "import numpy as np\n",
        "\n",
        "u = np.array([1,2,3])\n",
        "v = np.array([4,5,6])\n",
        "\n",
        "print(\"Vector addition with another vector ---> \" + str(u+v))\n",
        "print(\"Vector addition with a scalar ---> \" + str(u+4))\n",
        "print(\"Vector multiplication by a scalar ---> \" + str(u * 4))\n",
        "print(\"Vector multiplication (NOT dot nor cross product) ---> \" + str(u * v))\n",
        "print(\"Vector sum ---> \" + str(np.sum(u * v)))\n",
        "print(\"Dot product ---> \" + str(np.dot(u,v)))"
      ],
      "metadata": {
        "colab": {
          "base_uri": "https://localhost:8080/"
        },
        "id": "03hYIt4Hrkda",
        "outputId": "8e1b889b-50c5-4cf5-8cf0-ffd65827e4ab"
      },
      "execution_count": 17,
      "outputs": [
        {
          "output_type": "stream",
          "name": "stdout",
          "text": [
            "Vector addition with another vector ---> [5 7 9]\n",
            "Vector addition with a scalar ---> [5 6 7]\n",
            "Vector multiplication by a scalar ---> [ 4  8 12]\n",
            "Vector multiplication (NOT dot nor cross product) ---> [ 4 10 18]\n",
            "Vector sum ---> 32\n",
            "Dot product ---> 32\n"
          ]
        }
      ]
    },
    {
      "cell_type": "code",
      "source": [
        "\"\"\"\n",
        "Let's look at multi-dimensional arrays: 'arrays within arrays'\n",
        "\n",
        "The following code creates a total of three 3*3 matrices with all ones\n",
        "\"\"\"\n",
        "u = np.ones((3,3,3))\n",
        "u"
      ],
      "metadata": {
        "colab": {
          "base_uri": "https://localhost:8080/"
        },
        "id": "8wExL9_Hr1iZ",
        "outputId": "271f460a-4958-42a6-c35e-11dedb77aada"
      },
      "execution_count": 18,
      "outputs": [
        {
          "output_type": "execute_result",
          "data": {
            "text/plain": [
              "array([[[1., 1., 1.],\n",
              "        [1., 1., 1.],\n",
              "        [1., 1., 1.]],\n",
              "\n",
              "       [[1., 1., 1.],\n",
              "        [1., 1., 1.],\n",
              "        [1., 1., 1.]],\n",
              "\n",
              "       [[1., 1., 1.],\n",
              "        [1., 1., 1.],\n",
              "        [1., 1., 1.]]])"
            ]
          },
          "metadata": {},
          "execution_count": 18
        }
      ]
    },
    {
      "cell_type": "code",
      "source": [
        "# Return the shape/dimension of array\n",
        "u.shape"
      ],
      "metadata": {
        "colab": {
          "base_uri": "https://localhost:8080/"
        },
        "id": "cdXnj4iYtkOh",
        "outputId": "1f725195-25c6-4eca-e5eb-e5f1ca90f90d"
      },
      "execution_count": 19,
      "outputs": [
        {
          "output_type": "execute_result",
          "data": {
            "text/plain": [
              "(3, 3, 3)"
            ]
          },
          "metadata": {},
          "execution_count": 19
        }
      ]
    },
    {
      "cell_type": "code",
      "source": [
        "np.ones((2,3))"
      ],
      "metadata": {
        "colab": {
          "base_uri": "https://localhost:8080/"
        },
        "id": "aNF-2cr1ts9x",
        "outputId": "389d7d18-a97c-49db-86da-b7c103144585"
      },
      "execution_count": 20,
      "outputs": [
        {
          "output_type": "execute_result",
          "data": {
            "text/plain": [
              "array([[1., 1., 1.],\n",
              "       [1., 1., 1.]])"
            ]
          },
          "metadata": {},
          "execution_count": 20
        }
      ]
    },
    {
      "cell_type": "code",
      "source": [
        "np.ones((3, 2))"
      ],
      "metadata": {
        "colab": {
          "base_uri": "https://localhost:8080/"
        },
        "id": "oYe-knfdtyai",
        "outputId": "e52fd102-79c8-4856-bc79-8a425abace4c"
      },
      "execution_count": 21,
      "outputs": [
        {
          "output_type": "execute_result",
          "data": {
            "text/plain": [
              "array([[1., 1.],\n",
              "       [1., 1.],\n",
              "       [1., 1.]])"
            ]
          },
          "metadata": {},
          "execution_count": 21
        }
      ]
    },
    {
      "cell_type": "markdown",
      "source": [
        "\n",
        "**Scipy** is a package to analyze the curve fit.\n",
        "\n",
        "**Matplotlib** is a package for graphing data.\n",
        "\n",
        "See the follow for an example of how scipy, numpy, and matplotlib could be used together in data analysis.\n",
        "\n",
        "Documentations for Scipy, Matplotlib, and Numpy can be access in https://docs.scipy.org/doc/scipy/"
      ],
      "metadata": {
        "id": "fobfRDxOt5uO"
      }
    },
    {
      "cell_type": "code",
      "source": [
        "# import different packages used for data analysis\n",
        "# .. \"as opt\" means that the programmer could use the shorthand of \"opt\" to refer to this library, instead of typing the entire name\n",
        "import scipy.optimize as opt\n",
        "import numpy as np\n",
        "import matplotlib.pyplot as plt\n",
        "\n",
        "\n",
        "# Raw data manually entered by user\n",
        "I =[4.0, 3.5, 3.0, 2.5, 2.0]\n",
        "B =[1.31, 1.14, 0.97 ,0.81, 0.76]\n",
        "IError = [0.2, 0.2, 0.2, 0.2, 0.2]\n",
        "BError = [0.03, 0.02, 0.04, 0.02, 0.05]\n",
        "\n",
        "print(\"estimated B for each error \\n\")\n",
        "for i in range (5) :\n",
        "  print(str(I[i]) + \"+-\" + str(IError[i]) + \": \" + str(B[i]) + \"+-\" + str(BError[i]))\n",
        "\n",
        "# Apply Numpy library to format the list of raw data into a multi-dimensional matrix\n",
        "# This is necessary for function optimization and in order to properly use the Scipy package\n",
        "xdata = np.array(I)\n",
        "ydata = np.array(B)\n",
        "xerror = np.array(IError)\n",
        "yerror= np.array(BError)\n",
        "\n",
        "# Define linear function for fitting,\n",
        "def func(h, m, b):\n",
        "    return m*h + b\n",
        "\n",
        "\n",
        "# w gives the estimated parameter for m and b, stored in the square matrix of w and u\n",
        "# the missing _ return info about variance and covariance\n",
        "\n",
        "# w is a matrix with information about the value of slope and y-intercept\n",
        "w, u = opt.curve_fit(func, xdata, ydata)\n",
        "\n",
        "# Apply x coordinates and optimized result about curve fit to find the \"Line of the Best Fit\"\n",
        "yfit = func(xdata,*w)\n",
        "\n",
        "# Use Matplotlib package to graph data\n",
        "  # 1. Graph the error bars for each x-value\n",
        "  # 2. Graph the \"Line of the Best Fit\"\n",
        "\n",
        "# Note: there are options to customize the look of your graph with different parameters\n",
        "plt.errorbar(I, B, xerr=IError, yerr = BError, fmt='o', ms = 3)\n",
        "plt.plot(xdata,yfit,label=\"Fit\", linewidth=1.5, linestyle='dashed')\n",
        "\n",
        "# Add title and labels to the graph\n",
        "plt.title('I vs. B of the Electromagnet')\n",
        "plt.xlabel('Electromagnet Current I (A)')\n",
        "plt.ylabel('Magnetic Field B (T)')\n",
        "\n",
        "\n",
        "print(\"\\n Estimated parameters of m and b: \", w)\n",
        "print(\"\\n Estimated variance of m & b: \", np.sqrt(np.diag(u)))\n",
        "\n",
        "# If necessary, this is how you could save the graph to your local machine.\n",
        "# But here we do NOT need to save the graph, so we will comment out this line.\n",
        "\n",
        "# Specify the image name as the parameter\n",
        "### plt.savefig('IvsB.jpg')\n",
        "\n",
        "# Note: if you are showing and storing the graph, make sure you SAVE before SHOW.\n",
        "plt.show()"
      ],
      "metadata": {
        "colab": {
          "base_uri": "https://localhost:8080/",
          "height": 663
        },
        "id": "HsNPpEeit06C",
        "outputId": "a40b9e77-3267-4dfb-c099-239506315ec2"
      },
      "execution_count": 22,
      "outputs": [
        {
          "output_type": "stream",
          "name": "stdout",
          "text": [
            "estimated B for each error \n",
            "\n",
            "4.0+-0.2: 1.31+-0.03\n",
            "3.5+-0.2: 1.14+-0.02\n",
            "3.0+-0.2: 0.97+-0.04\n",
            "2.5+-0.2: 0.81+-0.02\n",
            "2.0+-0.2: 0.76+-0.05\n",
            "\n",
            " Estimated parameters of m and b:  [0.286 0.14 ]\n",
            "\n",
            " Estimated variance of m & b:  [0.02778489 0.08563877]\n"
          ]
        },
        {
          "output_type": "display_data",
          "data": {
            "text/plain": [
              "<Figure size 640x480 with 1 Axes>"
            ],
            "image/png": "[encoded data removed]"
          },
          "metadata": {}
        }
      ]
    },
    {
      "cell_type": "markdown",
      "source": [
        "##5.3: Web Development with Flask\n",
        "\n",
        "**Flask** is a Python framework for building a web application.\n",
        "\n",
        "Watch this Intro to Flask video for How-To build a basic website with Flask. https://www.youtube.com/watch?v=mqhxxeeTbu0&list=PLzMcBGfZo4-n4vJJybUVV3Un_NFS5EOgX"
      ],
      "metadata": {
        "id": "18EVJ8O7wQ9a"
      }
    },
    {
      "cell_type": "code",
      "source": [
        "\"\"\"\n",
        "app.route defines the URL and what function to run for each URL.\n",
        "\n",
        "When only '/' is specified in the URL, it is assumed to be the home page.\n",
        "This web application will serve the text '<h1>WELCOME to My Home Page</h1>'\n",
        "in header 1 style.\n",
        "\n",
        "When the URL contains a name in the URL, the name from the URL is parsed to be used\n",
        "in the function that serves the web page. This is known as a \"dynamic webpage.\"\n",
        "\n",
        "When admin is specific in the URL, the admin() will run to\n",
        "redirects the page to show the home page.\n",
        "\n",
        "Refer to the images below for a view of how each page.\n",
        "\"\"\"\n",
        "\n",
        "\n",
        "# Import packages\n",
        "from flask import Flask, redirect, url_for\n",
        "\n",
        "app = Flask(__name__)\n",
        "\n",
        "@app.route(\"/\")\n",
        "def home():\n",
        "  return \"<h1>WELCOME to My Home Page</h1>\"\n",
        "\n",
        "@app.route(\"/<name>\")\n",
        "def user(name):\n",
        "  return f\"<h3>Hello, nice to meet you {name}!</h3>\"\n",
        "\n",
        "@app.route(\"/admin\")\n",
        "def admin():\n",
        "  return redirect(url_for(\"home\"))\n",
        "\n",
        "if __name__ == \"__main__\":\n",
        "  app.run()"
      ],
      "metadata": {
        "colab": {
          "base_uri": "https://localhost:8080/"
        },
        "id": "xEQY8mSXwMJZ",
        "outputId": "263390e0-6f70-431d-d547-ca28ab97c527"
      },
      "execution_count": null,
      "outputs": [
        {
          "output_type": "stream",
          "name": "stdout",
          "text": [
            " * Serving Flask app '__main__'\n",
            " * Debug mode: off\n"
          ]
        },
        {
          "output_type": "stream",
          "name": "stderr",
          "text": [
            "INFO:werkzeug:\u001b[31m\u001b[1mWARNING: This is a development server. Do not use it in a production deployment. Use a production WSGI server instead.\u001b[0m\n",
            " * Running on http://127.0.0.1:5000\n",
            "INFO:werkzeug:\u001b[33mPress CTRL+C to quit\u001b[0m\n"
          ]
        }
      ]
    }
  ]
}