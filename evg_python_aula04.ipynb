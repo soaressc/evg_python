{
  "nbformat": 4,
  "nbformat_minor": 0,
  "metadata": {
    "colab": {
      "provenance": [],
      "authorship_tag": "ABX9TyPpw2VdcXhylRTtOuEcCHVx",
      "include_colab_link": true
    },
    "kernelspec": {
      "name": "python3",
      "display_name": "Python 3"
    },
    "language_info": {
      "name": "python"
    }
  },
  "cells": [
    {
      "cell_type": "markdown",
      "metadata": {
        "id": "view-in-github",
        "colab_type": "text"
      },
      "source": [
        "<a href=\"https://colab.research.google.com/github/soaressc/evg_python/blob/main/evg_python_aula04.ipynb\" target=\"_parent\"><img src=\"https://colab.research.google.com/assets/colab-badge.svg\" alt=\"Open In Colab\"/></a>"
      ]
    },
    {
      "cell_type": "markdown",
      "source": [
        "#Programação Orientada a Objeto\n",
        "\n",
        "Learning Objectives:\n",
        "\n",
        "\n",
        "\n",
        "1.   Understand the use of **init ()** method and the self parameter. Correctly declare a class object.\n",
        "2.   Recognize the difference between functions and methods and the scope of methods, and make method calls.\n",
        "3.   Understand how the level of inheritance affect method calls and variables.\n",
        "\n",
        "Let's consider the library system as an example of **Object-Oriented Programming**.\n",
        "\n",
        "A library has a number of books.\n",
        "\n",
        "\n",
        "\n",
        "*   What should the data associated with each book be?\n",
        "*   Are there any operations that a book should support?\n",
        "\n",
        "So, we will build the LibraryBook **class** to store data about each book and support methods/operations needed in the Library System.\n",
        "\n",
        "**Classes** are blueprints or designs or templates for instances. The relationship between a class and an instance is similar to the one between a cookie cutter and a cookie.\n",
        "\n",
        "\n",
        "*   A single cookie cutter can make any number of cookies. The cutter defines the shape of the cookie.\n",
        "*   The cookies are edible, but the cookie cutter is not.\n",
        "\n",
        "References from *Columbia University Professor Daniel Bauer's ENGI1006 Lectures*"
      ],
      "metadata": {
        "id": "MfkfkqwGG5sa"
      }
    },
    {
      "cell_type": "code",
      "execution_count": 1,
      "metadata": {
        "id": "jPAea3vuRvNG"
      },
      "outputs": [],
      "source": [
        "# LibraryBook is the name of the class\n",
        "class LibraryBook:\n",
        "  \"\"\"\n",
        "  A library book\n",
        "  \"\"\"\n",
        "\n",
        "  # pass indicates that the body/suit of the class definition is empty.\n",
        "  pass"
      ]
    },
    {
      "cell_type": "code",
      "source": [
        "# This will create an instance of the class.\n",
        "my_book = LibraryBook()\n",
        "my_book"
      ],
      "metadata": {
        "colab": {
          "base_uri": "https://localhost:8080/"
        },
        "id": "VbZcvlx3K0CM",
        "outputId": "5a24586c-887f-4545-ddee-a141c7f8e464"
      },
      "execution_count": 2,
      "outputs": [
        {
          "output_type": "execute_result",
          "data": {
            "text/plain": [
              "<__main__.LibraryBook at 0x7b93908dc1c0>"
            ]
          },
          "metadata": {},
          "execution_count": 2
        }
      ]
    },
    {
      "cell_type": "code",
      "source": [
        "type(my_book)"
      ],
      "metadata": {
        "colab": {
          "base_uri": "https://localhost:8080/"
        },
        "id": "cYV3rY7bK2wW",
        "outputId": "c149a26c-be26-4390-fca3-822579650547"
      },
      "execution_count": 3,
      "outputs": [
        {
          "output_type": "execute_result",
          "data": {
            "text/plain": [
              "__main__.LibraryBook"
            ]
          },
          "metadata": {},
          "execution_count": 3
        }
      ]
    },
    {
      "cell_type": "code",
      "source": [
        "# Another way to check the type of some object\n",
        "isinstance(my_book, LibraryBook)"
      ],
      "metadata": {
        "colab": {
          "base_uri": "https://localhost:8080/"
        },
        "id": "IY7kL7RpLDDn",
        "outputId": "bebe7fc6-cfbc-48af-d9b5-f01e67b02ae8"
      },
      "execution_count": 4,
      "outputs": [
        {
          "output_type": "execute_result",
          "data": {
            "text/plain": [
              "True"
            ]
          },
          "metadata": {},
          "execution_count": 4
        }
      ]
    },
    {
      "cell_type": "markdown",
      "source": [
        "###Why use classes and when??\n",
        "\n",
        "Objects simplify problems by providing an abstraction over certain data types and their functionality.\n",
        "\n",
        "  Instead of thinking of the problem in terms of individual strings, integers, etc. we can now think in terms of LibraryBooks (or other objects).\n",
        "\n",
        "**Encapsulation**\n",
        "\n",
        "\n",
        "*   Data and functionality is bundled in objects.\n",
        "*   The methods provide an interface to the object. Ideally the individual data are only written and read through methods.\n",
        "*   This means that details about how the functionality is implemented is hidden from the programmer. For example, we don't know how the append method on lists is implemented\n",
        "*    This idea allow classes to be shared (in libraries) and used by others (or re-used by you) without having to read through the source code for the class.\n"
      ],
      "metadata": {
        "id": "hZK8ploFLPuy"
      }
    },
    {
      "cell_type": "markdown",
      "source": [
        "## 4.1: init, Self Parameter\n",
        "\n",
        "**Data fields** - Each instance owns its own data (the class can define what names the data fields have).\n",
        "\n",
        "The **init(self, ...)** method is automatically called by Python when a new instance is created. This method is called the **class constructor**; it initialize the data values in the class."
      ],
      "metadata": {
        "id": "DNC95V1qLvG_"
      }
    },
    {
      "cell_type": "code",
      "source": [
        "\"\"\"\n",
        "A library book.\n",
        "\"\"\"\n",
        "class LibraryBook (object):\n",
        "\n",
        "  \"\"\"\n",
        "  The self parameter is REQUIRED within the class,\n",
        "  because it tells the program to retrieve/act on the instance object\n",
        "  that called it.\n",
        "  \"\"\"\n",
        "\n",
        "  def __init__(self, title, author, pub_year, call_no):\n",
        "    self.title = title\n",
        "    self.author = author\n",
        "    self.year = pub_year\n",
        "    self.call_number = call_no\n",
        "    self.checked_out = False"
      ],
      "metadata": {
        "id": "sZCToqbxMGM-"
      },
      "execution_count": 6,
      "outputs": []
    },
    {
      "cell_type": "code",
      "source": [
        "\"\"\"\n",
        "Since we have already created my_book as a LibraryBook object,\n",
        "we could now manually add the title, author,... information associated with the book.\n",
        "\"\"\"\n",
        "\n",
        "my_book.title = \"Harry Potter and the Philosopher's Stone\"\n",
        "my_book.author = ('Rowling', 'J.K.')\n",
        "my_book.year = 1998\n",
        "my_book.call_number = \"PZ7.R79835\""
      ],
      "metadata": {
        "id": "iWNGCS5qNeaE"
      },
      "execution_count": 7,
      "outputs": []
    },
    {
      "cell_type": "code",
      "source": [
        "# Retrieve a specific data field of an instance by calling instance name and the field name\n",
        "my_book.author"
      ],
      "metadata": {
        "colab": {
          "base_uri": "https://localhost:8080/"
        },
        "id": "aatuxKEYNxwN",
        "outputId": "582bfe76-59d6-4e31-f49e-e93d5c36fbfb"
      },
      "execution_count": 8,
      "outputs": [
        {
          "output_type": "execute_result",
          "data": {
            "text/plain": [
              "('Rowling', 'J.K.')"
            ]
          },
          "metadata": {},
          "execution_count": 8
        }
      ]
    },
    {
      "cell_type": "code",
      "source": [
        "\"\"\"\n",
        "Or we could pass all the information into the __init__ to set up the fields\n",
        "when creating the new instance.\n",
        "\"\"\"\n",
        "\n",
        "new_book = LibraryBook(\"Harry Potter and the Sorcerer's Stone\",\n",
        "                       (\"Rowling\",\"J.K.\"), 1998, \"PZ7.R79835\")\n",
        "\n",
        "new_book.author"
      ],
      "metadata": {
        "colab": {
          "base_uri": "https://localhost:8080/"
        },
        "id": "Ry03TXiWN0W9",
        "outputId": "8244be1c-1166-47ea-a198-32d2d23c8761"
      },
      "execution_count": 43,
      "outputs": [
        {
          "output_type": "execute_result",
          "data": {
            "text/plain": [
              "('Rowling', 'J.K.')"
            ]
          },
          "metadata": {},
          "execution_count": 43
        }
      ]
    },
    {
      "cell_type": "markdown",
      "source": [
        "##4.2: Methods\n",
        "\n",
        "**Methods** contain the functionality of the object.\n",
        "\n",
        "These are defined in the class.\n",
        "\n",
        "**4.2.1: Writing a Method**"
      ],
      "metadata": {
        "id": "-2RJ3IAfQMvw"
      }
    },
    {
      "cell_type": "code",
      "source": [
        "class LibraryBook(object):\n",
        "    \"\"\"\n",
        "    A library book.\n",
        "    \"\"\"\n",
        "\n",
        "    def __init__(self, title, author, pub_year, call_no):\n",
        "        self.title = title\n",
        "        self.author = author\n",
        "        self.year = pub_year\n",
        "        self.call_number = call_no\n",
        "\n",
        "    \"\"\"\n",
        "    Methods for LibraryBook\n",
        "    \"\"\"\n",
        "\n",
        "    # Returns the title and author information of the book as a string\n",
        "    def title_and_author(self):\n",
        "        return \"{} {}: {}\".format(self.author[1], self.author[0], self.title)\n",
        "\n",
        "    # Prints all information associated with a book in this format\n",
        "    def __str__(self): #make sure that __str__ returns a string!\n",
        "        return \"{} {} ({}): {}\".format(self.author[1], self.author[0], self.year, self.title)\n",
        "\n",
        "    # Returns a string representation of the book with it' title and call_number\n",
        "    def __repr__(self):\n",
        "        return \"<Book: {} ({})>\".format(self.title, self.call_number)"
      ],
      "metadata": {
        "id": "VnFYhUpYOBHj"
      },
      "execution_count": 44,
      "outputs": []
    },
    {
      "cell_type": "code",
      "source": [
        "# Simply calling the instance itself is triggering __repr__()\n",
        "new_book"
      ],
      "metadata": {
        "colab": {
          "base_uri": "https://localhost:8080/"
        },
        "id": "rqvaSrehQVJr",
        "outputId": "0ebbc235-46fb-4ca4-f193-27ce4986af45"
      },
      "execution_count": 13,
      "outputs": [
        {
          "output_type": "execute_result",
          "data": {
            "text/plain": [
              "<__main__.LibraryBook at 0x7b93908dd990>"
            ]
          },
          "metadata": {},
          "execution_count": 13
        }
      ]
    },
    {
      "cell_type": "code",
      "source": [
        "# print is triggering the __string__()\n",
        "print(new_book)"
      ],
      "metadata": {
        "colab": {
          "base_uri": "https://localhost:8080/"
        },
        "id": "WMaq88G9QbMK",
        "outputId": "df2dee5b-9a9b-43d6-b425-de51ac3aabfe"
      },
      "execution_count": 14,
      "outputs": [
        {
          "output_type": "stream",
          "name": "stdout",
          "text": [
            "<__main__.LibraryBook object at 0x7b93908dd990>\n"
          ]
        }
      ]
    },
    {
      "cell_type": "code",
      "source": [
        "new_book = LibraryBook(\"Harry Potter and the Sorcerer's Stone\",\n",
        "                       (\"Rowling\",\"J.K.\"), 1998, \"PZ7.R79835\")\n",
        "\n",
        "new_book.title_and_author()"
      ],
      "metadata": {
        "colab": {
          "base_uri": "https://localhost:8080/",
          "height": 36
        },
        "id": "bV3fadxnQc0I",
        "outputId": "d440f12a-99d0-49ca-e244-7afc9a6136b4"
      },
      "execution_count": 15,
      "outputs": [
        {
          "output_type": "execute_result",
          "data": {
            "text/plain": [
              "\"J.K. Rowling: Harry Potter and the Sorcerer's Stone\""
            ],
            "application/vnd.google.colaboratory.intrinsic+json": {
              "type": "string"
            }
          },
          "metadata": {},
          "execution_count": 15
        }
      ]
    },
    {
      "cell_type": "code",
      "source": [
        "new_book.__str__()"
      ],
      "metadata": {
        "colab": {
          "base_uri": "https://localhost:8080/",
          "height": 36
        },
        "id": "BWa7uYMuiHzn",
        "outputId": "eebeba03-7fb8-4f5e-9cdd-2861a6e1e4ba"
      },
      "execution_count": 45,
      "outputs": [
        {
          "output_type": "execute_result",
          "data": {
            "text/plain": [
              "\"J.K. Rowling (1998): Harry Potter and the Sorcerer's Stone\""
            ],
            "application/vnd.google.colaboratory.intrinsic+json": {
              "type": "string"
            }
          },
          "metadata": {},
          "execution_count": 45
        }
      ]
    },
    {
      "cell_type": "code",
      "source": [
        "new_book.__repr__()"
      ],
      "metadata": {
        "colab": {
          "base_uri": "https://localhost:8080/",
          "height": 36
        },
        "id": "iwi3zXgjig3-",
        "outputId": "5c97b09b-a424-4ebe-d158-a515f31e2a06"
      },
      "execution_count": 46,
      "outputs": [
        {
          "output_type": "execute_result",
          "data": {
            "text/plain": [
              "\"<Book: Harry Potter and the Sorcerer's Stone (PZ7.R79835)>\""
            ],
            "application/vnd.google.colaboratory.intrinsic+json": {
              "type": "string"
            }
          },
          "metadata": {},
          "execution_count": 46
        }
      ]
    },
    {
      "cell_type": "markdown",
      "source": [
        "**4.2.2: Internal/External Method Calls**\n",
        "\n",
        "The ONLY difference is:\n",
        "\n",
        "*   Externally/outside the class, you would simply call instanceName.method(), like new_book.title_and_author()\n",
        "*   Internally/within the class, you would use the self to points to that specific instance of the class, like self.title_and_author()"
      ],
      "metadata": {
        "id": "iu5-ym8ZQfvO"
      }
    },
    {
      "cell_type": "markdown",
      "source": [
        "##4.3: Inheritance\n",
        "\n",
        "Example of **instance-of** relationship.\n",
        "\n",
        "  nemo is an instance of ClownFish."
      ],
      "metadata": {
        "id": "VJE3CMySQrsy"
      }
    },
    {
      "cell_type": "code",
      "source": [
        "class ClownFish(object):\n",
        "    pass\n",
        "\n",
        "nemo = ClownFish()"
      ],
      "metadata": {
        "id": "pvjNi3pdQ4wY"
      },
      "execution_count": 16,
      "outputs": []
    },
    {
      "cell_type": "code",
      "source": [
        "type(nemo)"
      ],
      "metadata": {
        "colab": {
          "base_uri": "https://localhost:8080/"
        },
        "id": "X4ahJjKBQ5fY",
        "outputId": "66af865c-73f8-4944-8ae4-aa290681b386"
      },
      "execution_count": 17,
      "outputs": [
        {
          "output_type": "execute_result",
          "data": {
            "text/plain": [
              "__main__.ClownFish"
            ]
          },
          "metadata": {},
          "execution_count": 17
        }
      ]
    },
    {
      "cell_type": "code",
      "source": [
        "isinstance(nemo, ClownFish)"
      ],
      "metadata": {
        "colab": {
          "base_uri": "https://localhost:8080/"
        },
        "id": "o60OaA9HQ7y5",
        "outputId": "6a53e087-8b86-48c6-e2e2-0929fe1ad95f"
      },
      "execution_count": 18,
      "outputs": [
        {
          "output_type": "execute_result",
          "data": {
            "text/plain": [
              "True"
            ]
          },
          "metadata": {},
          "execution_count": 18
        }
      ]
    },
    {
      "cell_type": "markdown",
      "source": [
        "But ClownFish is also a fish, a vertebrate, and an animal, and each could be a separate class.\n",
        "\n",
        "In this case, we need to have relationships between class.\n",
        "\n",
        "\n",
        "\n",
        "*   The ClownFish class could have the parent class Fish,\n",
        "  *   which could have a parent class Vertebrate,\n",
        "    *   which could have a parent class Animal...\n",
        "\n",
        "This relationship is called the is-a relationship. It holds between a child class and its parent class. Every class in Python has at least one parent class.\n",
        "\n",
        "*(Note that the **is-a relationship is transitive**, so every ClownFish is also an Animal.)*\n",
        "\n",
        "There is a top-most class in Python called object. So far, when we defined classes, we always made object the direct parent of the class."
      ],
      "metadata": {
        "id": "Z8TXP8vbRaQ2"
      }
    },
    {
      "cell_type": "code",
      "source": [
        "class Animal(object):\n",
        "    pass\n",
        "\n",
        "class Vertebrate(Animal):\n",
        "    pass\n",
        "\n",
        "class Fish(Vertebrate):\n",
        "    pass\n",
        "\n",
        "class ClownFish(Fish):\n",
        "    pass\n",
        "\n",
        "class TangFish(Fish):\n",
        "    pass"
      ],
      "metadata": {
        "id": "Sb8144XyR7iT"
      },
      "execution_count": 19,
      "outputs": []
    },
    {
      "cell_type": "code",
      "source": [
        "nemo = ClownFish()"
      ],
      "metadata": {
        "id": "JGVsLObPR-i4"
      },
      "execution_count": 20,
      "outputs": []
    },
    {
      "cell_type": "code",
      "source": [
        "isinstance(nemo, ClownFish)"
      ],
      "metadata": {
        "colab": {
          "base_uri": "https://localhost:8080/"
        },
        "id": "XgTy7azrSBfn",
        "outputId": "2d03a464-5f55-46d1-f690-64d203ce681b"
      },
      "execution_count": 22,
      "outputs": [
        {
          "output_type": "execute_result",
          "data": {
            "text/plain": [
              "True"
            ]
          },
          "metadata": {},
          "execution_count": 22
        }
      ]
    },
    {
      "cell_type": "code",
      "source": [
        "isinstance(nemo, TangFish)"
      ],
      "metadata": {
        "colab": {
          "base_uri": "https://localhost:8080/"
        },
        "id": "tbp3LDxKSF_c",
        "outputId": "5803bde3-9b63-4ea6-fa2d-c6ac033cb69e"
      },
      "execution_count": 23,
      "outputs": [
        {
          "output_type": "execute_result",
          "data": {
            "text/plain": [
              "False"
            ]
          },
          "metadata": {},
          "execution_count": 23
        }
      ]
    },
    {
      "cell_type": "code",
      "source": [
        "# the is-a relationship is transitive\n",
        "isinstance(nemo, Animal)"
      ],
      "metadata": {
        "colab": {
          "base_uri": "https://localhost:8080/"
        },
        "id": "IEr_u2aDSH5G",
        "outputId": "016653dc-8b6f-4fda-cbaf-1548cb0ecc92"
      },
      "execution_count": 24,
      "outputs": [
        {
          "output_type": "execute_result",
          "data": {
            "text/plain": [
              "True"
            ]
          },
          "metadata": {},
          "execution_count": 24
        }
      ]
    },
    {
      "cell_type": "code",
      "source": [
        "# All classes have a parente class of Object\n",
        "isinstance(nemo, object)"
      ],
      "metadata": {
        "colab": {
          "base_uri": "https://localhost:8080/"
        },
        "id": "Vp7BnJRDSYWS",
        "outputId": "668da19f-41c5-4976-b772-05330d0b90b5"
      },
      "execution_count": 25,
      "outputs": [
        {
          "output_type": "execute_result",
          "data": {
            "text/plain": [
              "True"
            ]
          },
          "metadata": {},
          "execution_count": 25
        }
      ]
    },
    {
      "cell_type": "markdown",
      "source": [
        "**4.3.1: Inherited Methods**\n",
        "\n",
        "**Why use inheritance?**\n",
        "\n",
        "Every class also has access to the class attributes of the parent class. In particular, methods defined on the parent class can be called on instances of their \"decendants\"."
      ],
      "metadata": {
        "id": "kUOPOzV-SrvR"
      }
    },
    {
      "cell_type": "code",
      "source": [
        "class Fish(Animal):\n",
        "    def speak(self):\n",
        "        return \"Blub\"\n",
        "\n",
        "class ClownFish(Fish):\n",
        "    pass\n",
        "\n",
        "class TangFish(Fish):\n",
        "    pass"
      ],
      "metadata": {
        "id": "uP7Le98sSxMB"
      },
      "execution_count": 26,
      "outputs": []
    },
    {
      "cell_type": "code",
      "source": [
        "dory = TangFish()\n",
        "\n",
        "\"\"\"\n",
        "TangFish is a child class of Fish, so it can access the speak() from Fish class.\n",
        "It will first look for the method call within its class, and if not found, then repeat\n",
        "the search for each parent level up.\n",
        "\"\"\"\n",
        "\n",
        "dory.speak()"
      ],
      "metadata": {
        "colab": {
          "base_uri": "https://localhost:8080/",
          "height": 36
        },
        "id": "0DWgQ0KWS2G8",
        "outputId": "a2eb574b-459b-490c-f4d8-66516a565ddf"
      },
      "execution_count": 48,
      "outputs": [
        {
          "output_type": "execute_result",
          "data": {
            "text/plain": [
              "\"Hello, I'm a TangFish instance.\""
            ],
            "application/vnd.google.colaboratory.intrinsic+json": {
              "type": "string"
            }
          },
          "metadata": {},
          "execution_count": 48
        }
      ]
    },
    {
      "cell_type": "code",
      "source": [
        "nemo = ClownFish()\n",
        "\n",
        "# ClownFish is a child class of Fish, so it can access the speak() from Fish class\n",
        "\n",
        "nemo.speak()"
      ],
      "metadata": {
        "colab": {
          "base_uri": "https://localhost:8080/",
          "height": 36
        },
        "id": "30EFTXpgS4aF",
        "outputId": "9344f054-c14d-40cb-c4c4-ee26024140f7"
      },
      "execution_count": 30,
      "outputs": [
        {
          "output_type": "execute_result",
          "data": {
            "text/plain": [
              "'Blub'"
            ],
            "application/vnd.google.colaboratory.intrinsic+json": {
              "type": "string"
            }
          },
          "metadata": {},
          "execution_count": 30
        }
      ]
    },
    {
      "cell_type": "markdown",
      "source": [
        "What if we want different functionality for a child class? We can **override** the method (by writing a new one with the same name)."
      ],
      "metadata": {
        "id": "Y6HShNyTTZq8"
      }
    },
    {
      "cell_type": "code",
      "source": [
        "class TangFish(Fish):\n",
        "    def speak(self):\n",
        "        return \"Hello, I'm a TangFish instance.\""
      ],
      "metadata": {
        "id": "OKRyx7WhTQuD"
      },
      "execution_count": 32,
      "outputs": []
    },
    {
      "cell_type": "code",
      "source": [
        "dory = TangFish()\n",
        "\n",
        "# this speak() is from the TangFish class\n",
        "\n",
        "dory.speak()"
      ],
      "metadata": {
        "colab": {
          "base_uri": "https://localhost:8080/",
          "height": 36
        },
        "id": "NyFFLBjgTlNg",
        "outputId": "87674437-1a21-4c53-b259-624dadb3181c"
      },
      "execution_count": 49,
      "outputs": [
        {
          "output_type": "execute_result",
          "data": {
            "text/plain": [
              "\"Hello, I'm a TangFish instance.\""
            ],
            "application/vnd.google.colaboratory.intrinsic+json": {
              "type": "string"
            }
          },
          "metadata": {},
          "execution_count": 49
        }
      ]
    },
    {
      "cell_type": "code",
      "source": [
        "\"\"\"\n",
        "On the other hand, since the ClownFish class still does NOT\n",
        "define the speak(), instances of ClownFish are still using the\n",
        "speak() from the parent class of Fish.\n",
        "\"\"\"\n",
        "\n",
        "nemo = ClownFish()\n",
        "nemo.speak()"
      ],
      "metadata": {
        "colab": {
          "base_uri": "https://localhost:8080/",
          "height": 36
        },
        "id": "89PU6h-eTm8V",
        "outputId": "6568957e-fcd8-4871-9a96-e94e7d4bd8cf"
      },
      "execution_count": 33,
      "outputs": [
        {
          "output_type": "execute_result",
          "data": {
            "text/plain": [
              "'Blub'"
            ],
            "application/vnd.google.colaboratory.intrinsic+json": {
              "type": "string"
            }
          },
          "metadata": {},
          "execution_count": 33
        }
      ]
    },
    {
      "cell_type": "code",
      "source": [
        "# What happen when we want to print the nemo instance?\n",
        "print(nemo)"
      ],
      "metadata": {
        "colab": {
          "base_uri": "https://localhost:8080/"
        },
        "id": "JWjueO4QTuBV",
        "outputId": "97caba17-b728-4546-87ba-d3d891604cdc"
      },
      "execution_count": 51,
      "outputs": [
        {
          "output_type": "stream",
          "name": "stdout",
          "text": [
            "Hello, my name is clown_fish\n"
          ]
        }
      ]
    },
    {
      "cell_type": "code",
      "source": [
        "# The print statement is not easy to understand, so we will override it.\n",
        "\n",
        "class ClownFish(Fish):\n",
        "    def __init__(self, name):\n",
        "        self.name = name\n",
        "    def __str__(self):\n",
        "        return \"A ClownFish named \"+self.name"
      ],
      "metadata": {
        "id": "raPIOQPkTukv"
      },
      "execution_count": 50,
      "outputs": []
    },
    {
      "cell_type": "markdown",
      "source": [
        "**4.3.2: Accessing Variable with Inheritance**\n",
        "\n",
        "In a is-a relationship, the child classe could access the parent class's attributes if not defined in the child class, or override the attribute value of same attribute exists in the child class.\n",
        "\n",
        "However, if an instance is defined at one of the parent class levels, then it could NOT access the attributes that are defined in any of the lower child class level."
      ],
      "metadata": {
        "id": "EGstwUGCT0Tj"
      }
    },
    {
      "cell_type": "code",
      "source": [
        "class Fish(Vertebrate):\n",
        "\n",
        "    # self.name is not defined in Fish class, but is defined in the ClownFish class.\n",
        "    def __str__(self):\n",
        "        return \"Hello, my name is {}\".format(self.name)\n",
        "\n",
        "class ClownFish(Fish):\n",
        "    def __init__(self, name):\n",
        "        self.name = name"
      ],
      "metadata": {
        "id": "JyNIPU5tTw7J"
      },
      "execution_count": 52,
      "outputs": []
    },
    {
      "cell_type": "code",
      "source": [
        "nemo = ClownFish(\"nemo\")\n",
        "\n",
        "# The self.name attribute for the __str__() is from the ClownFish class\n",
        "# but the __str__() is from the Fish class\n",
        "\n",
        "print(nemo)"
      ],
      "metadata": {
        "colab": {
          "base_uri": "https://localhost:8080/"
        },
        "id": "_0SYOotnT72m",
        "outputId": "2ed5e5b5-5d0b-4406-94e1-24f01961c3ff"
      },
      "execution_count": 37,
      "outputs": [
        {
          "output_type": "stream",
          "name": "stdout",
          "text": [
            "Hello, my name is nemo\n"
          ]
        }
      ]
    },
    {
      "cell_type": "code",
      "source": [
        "\"\"\"\n",
        "ERROR, because if nemo is an instance of fish class,\n",
        "then it does NOT have the name attribute.\n",
        "\"\"\"\n",
        "\n",
        "nemo = Fish()\n",
        "print(nemo)"
      ],
      "metadata": {
        "colab": {
          "base_uri": "https://localhost:8080/",
          "height": 332
        },
        "id": "nxKY34yVT_yK",
        "outputId": "fb0395ba-d1fe-4185-e0af-809c53024f57"
      },
      "execution_count": 38,
      "outputs": [
        {
          "output_type": "error",
          "ename": "AttributeError",
          "evalue": "ignored",
          "traceback": [
            "\u001b[0;31m---------------------------------------------------------------------------\u001b[0m",
            "\u001b[0;31mAttributeError\u001b[0m                            Traceback (most recent call last)",
            "\u001b[0;32m<ipython-input-38-3dff370cc698>\u001b[0m in \u001b[0;36m<cell line: 6>\u001b[0;34m()\u001b[0m\n\u001b[1;32m      4\u001b[0m \"\"\"\n\u001b[1;32m      5\u001b[0m \u001b[0mnemo\u001b[0m \u001b[0;34m=\u001b[0m \u001b[0mFish\u001b[0m\u001b[0;34m(\u001b[0m\u001b[0;34m)\u001b[0m\u001b[0;34m\u001b[0m\u001b[0;34m\u001b[0m\u001b[0m\n\u001b[0;32m----> 6\u001b[0;31m \u001b[0mprint\u001b[0m\u001b[0;34m(\u001b[0m\u001b[0mnemo\u001b[0m\u001b[0;34m)\u001b[0m\u001b[0;34m\u001b[0m\u001b[0;34m\u001b[0m\u001b[0m\n\u001b[0m",
            "\u001b[0;32m<ipython-input-36-b5476c627494>\u001b[0m in \u001b[0;36m__str__\u001b[0;34m(self)\u001b[0m\n\u001b[1;32m      3\u001b[0m     \u001b[0;31m# self.name is not defined in Fish class, but is defined in the ClownFish class.\u001b[0m\u001b[0;34m\u001b[0m\u001b[0;34m\u001b[0m\u001b[0m\n\u001b[1;32m      4\u001b[0m     \u001b[0;32mdef\u001b[0m \u001b[0m__str__\u001b[0m\u001b[0;34m(\u001b[0m\u001b[0mself\u001b[0m\u001b[0;34m)\u001b[0m\u001b[0;34m:\u001b[0m\u001b[0;34m\u001b[0m\u001b[0;34m\u001b[0m\u001b[0m\n\u001b[0;32m----> 5\u001b[0;31m         \u001b[0;32mreturn\u001b[0m \u001b[0;34m\"Hello, my name is {}\"\u001b[0m\u001b[0;34m.\u001b[0m\u001b[0mformat\u001b[0m\u001b[0;34m(\u001b[0m\u001b[0mself\u001b[0m\u001b[0;34m.\u001b[0m\u001b[0mname\u001b[0m\u001b[0;34m)\u001b[0m\u001b[0;34m\u001b[0m\u001b[0;34m\u001b[0m\u001b[0m\n\u001b[0m\u001b[1;32m      6\u001b[0m \u001b[0;34m\u001b[0m\u001b[0m\n\u001b[1;32m      7\u001b[0m \u001b[0;32mclass\u001b[0m \u001b[0mClownFish\u001b[0m\u001b[0;34m(\u001b[0m\u001b[0mFish\u001b[0m\u001b[0;34m)\u001b[0m\u001b[0;34m:\u001b[0m\u001b[0;34m\u001b[0m\u001b[0;34m\u001b[0m\u001b[0m\n",
            "\u001b[0;31mAttributeError\u001b[0m: 'Fish' object has no attribute 'name'"
          ]
        }
      ]
    },
    {
      "cell_type": "code",
      "source": [
        "class Fish(Vertebrate):\n",
        "    def __init__(self, name):\n",
        "        self.name = name\n",
        "\n",
        "    # self.name is not defined in Fish class, but is defined in the ClownFish class.\n",
        "    def __str__(self):\n",
        "        return \"Hello, my name is {}\".format(self.name)\n",
        "\n",
        "class ClownFish(Fish):\n",
        "    def __init__(self, name):\n",
        "        self.name = name"
      ],
      "metadata": {
        "id": "0CmTyvGDUEP2"
      },
      "execution_count": 55,
      "outputs": []
    },
    {
      "cell_type": "code",
      "source": [
        "nemo = ClownFish(\"Nemo\")\n",
        "\n",
        "# __str__() is accessing the self.name from the child level\n",
        "print(nemo)"
      ],
      "metadata": {
        "colab": {
          "base_uri": "https://localhost:8080/"
        },
        "id": "8GgpiiqvUE0c",
        "outputId": "071a19cf-efda-4052-f25f-1d4b4432ded9"
      },
      "execution_count": 53,
      "outputs": [
        {
          "output_type": "stream",
          "name": "stdout",
          "text": [
            "Hello, my name is Nemo\n"
          ]
        }
      ]
    },
    {
      "cell_type": "code",
      "source": [
        "nemo = Fish(\"clown_fish\")\n",
        "\n",
        "# __str__ ia accessing the self.name attribute from Fish class\n",
        "print(nemo)"
      ],
      "metadata": {
        "colab": {
          "base_uri": "https://localhost:8080/"
        },
        "id": "pLa2Nt39UG6C",
        "outputId": "59ce4411-01a1-4234-f0cd-8cbcb9f148b0"
      },
      "execution_count": 56,
      "outputs": [
        {
          "output_type": "stream",
          "name": "stdout",
          "text": [
            "Hello, my name is clown_fish\n"
          ]
        }
      ]
    }
  ]
}