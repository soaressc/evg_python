{
  "nbformat": 4,
  "nbformat_minor": 0,
  "metadata": {
    "colab": {
      "provenance": [],
      "include_colab_link": true
    },
    "kernelspec": {
      "name": "python3",
      "display_name": "Python 3"
    },
    "language_info": {
      "name": "python"
    }
  },
  "cells": [
    {
      "cell_type": "markdown",
      "metadata": {
        "id": "view-in-github",
        "colab_type": "text"
      },
      "source": [
        "<a href=\"https://colab.research.google.com/github/soaressc/evg_python/blob/main/evg_python_aula01.ipynb\" target=\"_parent\"><img src=\"https://colab.research.google.com/assets/colab-badge.svg\" alt=\"Open In Colab\"/></a>"
      ]
    },
    {
      "cell_type": "markdown",
      "source": [
        "AULA 1: VARIÁVEIS, OPERADORES E CONDIÇÕES"
      ],
      "metadata": {
        "id": "UNtzWWNxeYiO"
      }
    },
    {
      "cell_type": "code",
      "source": [
        "# Examples of variable declarations\n",
        "width = 10\n",
        "\n",
        "# Notice the \"H\" is capitalized\n",
        "Height = 5\n",
        "\n",
        "area = 0\n",
        "\n",
        "# storing a string\n",
        "helloMessage = \"Hello World!\"\n",
        "first_name = \"John\"\n",
        "\n",
        "# storing a char\n",
        "character_example = 'a'\n",
        "\n",
        "# storing a float\n",
        "_newFloat = 1.0\n",
        "\n",
        "# storing a boolean value\n",
        "bool_Condition = True"
      ],
      "metadata": {
        "id": "8nL_J_Xjedse"
      },
      "execution_count": null,
      "outputs": []
    },
    {
      "cell_type": "code",
      "source": [
        "type(Height)"
      ],
      "metadata": {
        "colab": {
          "base_uri": "https://localhost:8080/"
        },
        "id": "jeus55rafMqh",
        "outputId": "421c7b73-a2d6-499f-9219-2796854411db"
      },
      "execution_count": null,
      "outputs": [
        {
          "output_type": "execute_result",
          "data": {
            "text/plain": [
              "int"
            ]
          },
          "metadata": {},
          "execution_count": 4
        }
      ]
    },
    {
      "cell_type": "code",
      "source": [
        "type(width)"
      ],
      "metadata": {
        "colab": {
          "base_uri": "https://localhost:8080/"
        },
        "id": "X9AUc9rRfevY",
        "outputId": "b1b0410e-8d30-43f4-d9ea-5ac2f35edc8b"
      },
      "execution_count": null,
      "outputs": [
        {
          "output_type": "execute_result",
          "data": {
            "text/plain": [
              "int"
            ]
          },
          "metadata": {},
          "execution_count": 5
        }
      ]
    },
    {
      "cell_type": "code",
      "source": [
        "# Let's cast a float into an int and vice verse\n",
        "# We will cast the type and the store it in a new variable\n",
        "width_float = float(width)\n",
        "\n",
        "type(width_float)"
      ],
      "metadata": {
        "colab": {
          "base_uri": "https://localhost:8080/"
        },
        "id": "hy95y1SefV6w",
        "outputId": "57f22f29-9bcb-4d46-ee14-9a1e9da6a241"
      },
      "execution_count": null,
      "outputs": [
        {
          "output_type": "execute_result",
          "data": {
            "text/plain": [
              "float"
            ]
          },
          "metadata": {},
          "execution_count": 3
        }
      ]
    },
    {
      "cell_type": "code",
      "source": [
        "# Cast between string and int\n",
        "# Recall that width stores an int\n",
        "\n",
        "# convert width to string\n",
        "width_string = str(width)\n",
        "type(width_string)"
      ],
      "metadata": {
        "colab": {
          "base_uri": "https://localhost:8080/"
        },
        "id": "1TFR7KnLfldA",
        "outputId": "24711ded-284a-4467-a6fa-d9bd2c5574cc"
      },
      "execution_count": null,
      "outputs": [
        {
          "output_type": "execute_result",
          "data": {
            "text/plain": [
              "str"
            ]
          },
          "metadata": {},
          "execution_count": 6
        }
      ]
    },
    {
      "cell_type": "code",
      "source": [
        "# convert width_string back to an int\n",
        "type(int(width_string))"
      ],
      "metadata": {
        "colab": {
          "base_uri": "https://localhost:8080/"
        },
        "id": "Vrmc6b8QfqHw",
        "outputId": "a167b442-4114-4af2-d72b-25f09504684e"
      },
      "execution_count": null,
      "outputs": [
        {
          "output_type": "execute_result",
          "data": {
            "text/plain": [
              "int"
            ]
          },
          "metadata": {},
          "execution_count": 7
        }
      ]
    },
    {
      "cell_type": "code",
      "source": [
        "# Basic mathematical operations with Numbers\n",
        "\n",
        "# Addition\n",
        "print(5+23)\n",
        "\n",
        "# Subtraction\n",
        "print(100-25)\n",
        "\n",
        "# Multiplication\n",
        "print(5*10)\n",
        "\n",
        "# Power/Exponent\n",
        "# ** operator is equivalent to exponent\n",
        "print(5**2)\n",
        "\n",
        "# 5*5 = 5^2 = 5**2\n",
        "print(5*5)\n",
        "\n",
        "# Division (float)\n",
        "# Return the actual decimal value of division\n",
        "print(36/4)\n",
        "print(10/3)\n",
        "\n",
        "# Division (int)\n",
        "# Return an int. If the actual quotient is a decimal value, only whole number is returned\n",
        "print(10//3)\n",
        "print(19//6)\n",
        "\n",
        "# Modular Division: return the remainder of division\n",
        "print(10%3)"
      ],
      "metadata": {
        "colab": {
          "base_uri": "https://localhost:8080/"
        },
        "id": "sK0LzBKzfsGo",
        "outputId": "50450ecc-083b-4c5d-96df-e03e01d3e0c7"
      },
      "execution_count": null,
      "outputs": [
        {
          "output_type": "stream",
          "name": "stdout",
          "text": [
            "28\n",
            "75\n",
            "50\n",
            "25\n",
            "25\n",
            "9.0\n",
            "3.3333333333333335\n",
            "3\n",
            "3\n",
            "1\n"
          ]
        }
      ]
    },
    {
      "cell_type": "code",
      "source": [
        "# Operations with Strings and Characters\n",
        "print(\"foo\" * 5)\n",
        "print('x'*3)"
      ],
      "metadata": {
        "colab": {
          "base_uri": "https://localhost:8080/"
        },
        "id": "Na_tWGRFf-5x",
        "outputId": "beff5c32-ef09-4ead-b4f7-972e4f4545f1"
      },
      "execution_count": null,
      "outputs": [
        {
          "output_type": "stream",
          "name": "stdout",
          "text": [
            "foofoofoofoofoo\n",
            "xxx\n"
          ]
        }
      ]
    },
    {
      "cell_type": "code",
      "source": [
        "# ERROR: compiler treats x as a variable, not a character\n",
        "print(x*3)"
      ],
      "metadata": {
        "colab": {
          "base_uri": "https://localhost:8080/",
          "height": 200
        },
        "id": "3MlyTpAYgDf5",
        "outputId": "a6375809-4b5e-4d9e-85e8-36dffb97dbf5"
      },
      "execution_count": null,
      "outputs": [
        {
          "output_type": "error",
          "ename": "NameError",
          "evalue": "ignored",
          "traceback": [
            "\u001b[0;31m---------------------------------------------------------------------------\u001b[0m",
            "\u001b[0;31mNameError\u001b[0m                                 Traceback (most recent call last)",
            "\u001b[0;32m<ipython-input-10-47a2cb16f654>\u001b[0m in \u001b[0;36m<cell line: 2>\u001b[0;34m()\u001b[0m\n\u001b[1;32m      1\u001b[0m \u001b[0;31m# ERROR: compiler treats x as a variable, not a character\u001b[0m\u001b[0;34m\u001b[0m\u001b[0;34m\u001b[0m\u001b[0m\n\u001b[0;32m----> 2\u001b[0;31m \u001b[0mprint\u001b[0m\u001b[0;34m(\u001b[0m\u001b[0mx\u001b[0m\u001b[0;34m*\u001b[0m\u001b[0;36m3\u001b[0m\u001b[0;34m)\u001b[0m\u001b[0;34m\u001b[0m\u001b[0;34m\u001b[0m\u001b[0m\n\u001b[0m",
            "\u001b[0;31mNameError\u001b[0m: name 'x' is not defined"
          ]
        }
      ]
    },
    {
      "cell_type": "code",
      "source": [
        "# ERROR: cannot concatenate an int to a string --> need to cast int to string\n",
        "print(\"hello\" + 5)"
      ],
      "metadata": {
        "colab": {
          "base_uri": "https://localhost:8080/",
          "height": 219
        },
        "id": "5jWz0ZY9gGoI",
        "outputId": "0aeb340c-ab4b-49d4-c765-491b088b4004"
      },
      "execution_count": null,
      "outputs": [
        {
          "output_type": "error",
          "ename": "TypeError",
          "evalue": "ignored",
          "traceback": [
            "\u001b[0;31m---------------------------------------------------------------------------\u001b[0m",
            "\u001b[0;31mTypeError\u001b[0m                                 Traceback (most recent call last)",
            "\u001b[0;32m<ipython-input-11-8beae78f288a>\u001b[0m in \u001b[0;36m<cell line: 2>\u001b[0;34m()\u001b[0m\n\u001b[1;32m      1\u001b[0m \u001b[0;31m# ERROR: cannot concatenate an int to a string --> need to cast int to string\u001b[0m\u001b[0;34m\u001b[0m\u001b[0;34m\u001b[0m\u001b[0m\n\u001b[0;32m----> 2\u001b[0;31m \u001b[0mprint\u001b[0m\u001b[0;34m(\u001b[0m\u001b[0;34m\"hello\"\u001b[0m \u001b[0;34m+\u001b[0m \u001b[0;36m5\u001b[0m\u001b[0;34m)\u001b[0m\u001b[0;34m\u001b[0m\u001b[0;34m\u001b[0m\u001b[0m\n\u001b[0m",
            "\u001b[0;31mTypeError\u001b[0m: can only concatenate str (not \"int\") to str"
          ]
        }
      ]
    },
    {
      "cell_type": "code",
      "source": [
        "# Fix\n",
        "print(\"hello \" + str(5))"
      ],
      "metadata": {
        "colab": {
          "base_uri": "https://localhost:8080/"
        },
        "id": "kYIF1gkIgLZ4",
        "outputId": "53ccbecf-0e38-45a5-9398-6e372559c41d"
      },
      "execution_count": null,
      "outputs": [
        {
          "output_type": "stream",
          "name": "stdout",
          "text": [
            "hello 5\n"
          ]
        }
      ]
    },
    {
      "cell_type": "code",
      "source": [
        "# String addition = concatenation\n",
        "print(\"hello \" + \"world\")"
      ],
      "metadata": {
        "colab": {
          "base_uri": "https://localhost:8080/"
        },
        "id": "Ze-ghFCogOJS",
        "outputId": "2f6e44d5-e703-477e-e3f4-239bb84ae2f2"
      },
      "execution_count": null,
      "outputs": [
        {
          "output_type": "stream",
          "name": "stdout",
          "text": [
            "hello world\n"
          ]
        }
      ]
    },
    {
      "cell_type": "markdown",
      "source": [
        "Comparators: return boolean value"
      ],
      "metadata": {
        "id": "X46y6SbIgUUP"
      }
    },
    {
      "cell_type": "code",
      "source": [
        "# Comparators on Strings\n",
        "\n",
        "print(\"hello\" < \"world\")\n",
        "print(\"hello\" == \"world\")\n",
        "print(\"hello\" > \"world\")\n",
        "\n",
        "print(\"hello\" == \"hello\")\n",
        "\n",
        "print(\"cat\" < \"dog\")"
      ],
      "metadata": {
        "colab": {
          "base_uri": "https://localhost:8080/"
        },
        "id": "X6aBGRrLgXEu",
        "outputId": "e61d4be6-764f-42ae-c0cc-4a905defe00f"
      },
      "execution_count": null,
      "outputs": [
        {
          "output_type": "stream",
          "name": "stdout",
          "text": [
            "True\n",
            "False\n",
            "False\n",
            "True\n",
            "True\n"
          ]
        }
      ]
    },
    {
      "cell_type": "code",
      "source": [
        "x = 7\n",
        "y = 14\n",
        "\n",
        "\n",
        "if (2*x == y):\n",
        "  print(\"y is double of x\")\n",
        "elif (x**2 == y):\n",
        "  print(\"y is the squared of x\")\n",
        "else:\n",
        "  print(\"y is NOT double of x\")"
      ],
      "metadata": {
        "colab": {
          "base_uri": "https://localhost:8080/"
        },
        "id": "Xx2mRhEMh2xQ",
        "outputId": "76fd9564-296d-43cc-ca2c-fffcb4995506"
      },
      "execution_count": null,
      "outputs": [
        {
          "output_type": "stream",
          "name": "stdout",
          "text": [
            "y is double of x\n"
          ]
        }
      ]
    },
    {
      "cell_type": "code",
      "source": [
        "x = 7\n",
        "y = 49\n",
        "\n",
        "\n",
        "if (2*x == y):\n",
        "  print(\"y is double of x\")\n",
        "elif (x**2 == y):\n",
        "  print(\"y is the squared of x\")\n",
        "else:\n",
        "  print(\"y is NOT related to x\")"
      ],
      "metadata": {
        "colab": {
          "base_uri": "https://localhost:8080/"
        },
        "id": "Ij2pZ_FUiLGB",
        "outputId": "e4cd878d-cdcd-4592-c776-0d3b3c75b8dc"
      },
      "execution_count": null,
      "outputs": [
        {
          "output_type": "stream",
          "name": "stdout",
          "text": [
            "y is the squared of x\n"
          ]
        }
      ]
    },
    {
      "cell_type": "code",
      "source": [
        "x = 7\n",
        "y = 50\n",
        "\n",
        "\n",
        "if (2*x == y):\n",
        "  print(\"y is double of x\")\n",
        "elif (x**2 == y):\n",
        "  print(\"y is the squared of x\")\n",
        "else:\n",
        "  print(\"y is NOT double nor squared of x\")"
      ],
      "metadata": {
        "colab": {
          "base_uri": "https://localhost:8080/"
        },
        "id": "5UmF1eRRiVV6",
        "outputId": "2ddef527-3ae5-4a89-cb1d-cbf4c6106f45"
      },
      "execution_count": null,
      "outputs": [
        {
          "output_type": "stream",
          "name": "stdout",
          "text": [
            "y is NOT double nor squared of x\n"
          ]
        }
      ]
    },
    {
      "cell_type": "markdown",
      "source": [
        "Python does NOT have an implementation for the switch cases, but one way to implement the switch case is with the dictionary, a data structure that stores the key-value pair (Module 3).\n",
        "\n",
        "The switch conditions are stored as keys in the dictionary, and actions stored as the value.\n",
        "If there is a series of actions for each case, then consider writing a function for each case and use the function calls as the value.\n",
        "The default condition is manually listed as a key-value in the get()."
      ],
      "metadata": {
        "id": "lxkgBApWjKDg"
      }
    },
    {
      "cell_type": "code",
      "source": [
        "def switcher(number):\n",
        "\n",
        "  # dictionary (from Module 3) to store switch cases\n",
        "  # If not found, then get() the default value\n",
        "  return {\n",
        "    '0':\"Entered 0\",\n",
        "    '1':\"Entered 1\",\n",
        "    '2':\"Entered 2\",\n",
        "    '3':\"Entered 3\",\n",
        "    '4':\"Entered 4\",\n",
        "    '5':\"Entered 5\",\n",
        "    '6':\"Entered 6\",\n",
        "    '7':\"Entered 7\",\n",
        "    '8':\"Entered 8\",\n",
        "    '9':\"Entered 9\",\n",
        "  }.get(number,\"Invalid number!\")\n",
        "\n",
        "\n",
        "# input() reads in an user input from stdin\n",
        "number = input(\"Dial a number: \")\n",
        "switcher(number)"
      ],
      "metadata": {
        "colab": {
          "base_uri": "https://localhost:8080/",
          "height": 55
        },
        "id": "wk_ZFBHyjLyd",
        "outputId": "1facd274-6bbc-48e1-9bb1-2da27ece90b4"
      },
      "execution_count": null,
      "outputs": [
        {
          "name": "stdout",
          "output_type": "stream",
          "text": [
            "Dial a number: 11\n"
          ]
        },
        {
          "output_type": "execute_result",
          "data": {
            "text/plain": [
              "'Invalid number!'"
            ],
            "application/vnd.google.colaboratory.intrinsic+json": {
              "type": "string"
            }
          },
          "metadata": {},
          "execution_count": 3
        }
      ]
    },
    {
      "cell_type": "markdown",
      "source": [
        "EXERCISE: implement the above switch case example using if/else conditions\n",
        "\n",
        "Prompt: For each digit between 0-9, the program will print a confirmation\n",
        "for the entered value or print \"invalid inputs\" for all other numbers."
      ],
      "metadata": {
        "id": "W2BvjdFjFF7d"
      }
    },
    {
      "cell_type": "code",
      "source": [
        "number = input(\"Entre com valor: \")\n",
        "number = int(number)\n",
        "if number not in range(0, 10): print(\"Valor inválido.\")\n",
        "else: print(\"Entrou\", number)"
      ],
      "metadata": {
        "colab": {
          "base_uri": "https://localhost:8080/"
        },
        "id": "wIU9pIxtFI0s",
        "outputId": "07299d53-10d0-4507-8ba5-3bf0b91dde71"
      },
      "execution_count": null,
      "outputs": [
        {
          "output_type": "stream",
          "name": "stdout",
          "text": [
            "Entre com valor: 11\n",
            "Valor inválido.\n"
          ]
        }
      ]
    }
  ]
}